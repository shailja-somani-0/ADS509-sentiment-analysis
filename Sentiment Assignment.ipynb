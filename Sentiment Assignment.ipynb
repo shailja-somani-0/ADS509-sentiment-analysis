{
 "cells": [
  {
   "cell_type": "markdown",
   "id": "7f79baf9",
   "metadata": {},
   "source": [
    "# ADS 509 Sentiment Assignment\n",
    "\n",
    "Shailja Somani\\\n",
    "ADS 509 Assignment 6.1\\\n",
    "June 10, 2024\n",
    "\n",
    "This notebook holds the Sentiment Assignment for Module 6 in ADS 509, Applied Text Mining. Work through this notebook, writing code and answering questions where required. \n",
    "\n",
    "In a previous assignment you put together Twitter data and lyrics data on two artists. In this assignment we apply sentiment analysis to those data sets. If, for some reason, you did not complete that previous assignment, data to use for this assignment can be found in the assignment materials section of Blackboard. \n"
   ]
  },
  {
   "cell_type": "code",
   "execution_count": 1,
   "id": "e2d096b7",
   "metadata": {},
   "outputs": [],
   "source": [
    "import os\n",
    "import re\n",
    "import emoji\n",
    "import pandas as pd\n",
    "import numpy as np\n",
    "\n",
    "from collections import Counter, defaultdict\n",
    "from string import punctuation\n",
    "\n",
    "from nltk.corpus import stopwords\n",
    "\n",
    "sw = stopwords.words(\"english\")"
   ]
  },
  {
   "cell_type": "code",
   "execution_count": 35,
   "id": "6b555ab2",
   "metadata": {},
   "outputs": [
    {
     "name": "stderr",
     "output_type": "stream",
     "text": [
      "[nltk_data] Downloading package punkt to\n",
      "[nltk_data]     /Users/shailjasomani/nltk_data...\n",
      "[nltk_data]   Package punkt is already up-to-date!\n"
     ]
    }
   ],
   "source": [
    "# Add any additional import statements you need here\n",
    "# for bing_liu_score() from textbook\n",
    "from nltk.tokenize import word_tokenize \n",
    "import nltk\n",
    "nltk.download('punkt')\n",
    "\n",
    "# for plotting distributions\n",
    "import matplotlib.pyplot as plt"
   ]
  },
  {
   "cell_type": "code",
   "execution_count": 2,
   "id": "923b5a86",
   "metadata": {},
   "outputs": [],
   "source": [
    "# change `data_location` to the location of the folder on your machine.\n",
    "data_location = \"/users/shailjasomani/Documents/USD_MS_ADS/ADS_509/\"\n",
    "\n",
    "# These subfolders should still work if you correctly stored the \n",
    "# data from the Module 1 assignment\n",
    "twitter_folder = \"M1_Results/twitter/\"\n",
    "lyrics_folder = \"M1_Results/lyrics/\"\n",
    "\n",
    "positive_words_file = \"positive-words.txt\"\n",
    "negative_words_file = \"negative-words.txt\"\n",
    "tidy_text_file = \"tidytext_sentiments.txt\""
   ]
  },
  {
   "cell_type": "markdown",
   "id": "9d3bf93e",
   "metadata": {},
   "source": [
    "## Data Input\n",
    "\n",
    "Now read in each of the corpora. For the lyrics data, it may be convenient to store the entire contents of the file to make it easier to inspect the titles individually, as you'll do in the last part of the assignment. In the solution, I stored the lyrics data in a dictionary with two dimensions of keys: artist and song. The value was the file contents. A Pandas data frame would work equally well. \n",
    "\n",
    "For the Twitter data, we only need the description field for this assignment. Feel free all the descriptions read it into a data structure. In the solution, I stored the descriptions as a dictionary of lists, with the key being the artist. \n",
    "\n",
    "\n"
   ]
  },
  {
   "cell_type": "code",
   "execution_count": 4,
   "id": "37d70801",
   "metadata": {},
   "outputs": [
    {
     "data": {
      "text/html": [
       "<div>\n",
       "<style scoped>\n",
       "    .dataframe tbody tr th:only-of-type {\n",
       "        vertical-align: middle;\n",
       "    }\n",
       "\n",
       "    .dataframe tbody tr th {\n",
       "        vertical-align: top;\n",
       "    }\n",
       "\n",
       "    .dataframe thead th {\n",
       "        text-align: right;\n",
       "    }\n",
       "</style>\n",
       "<table border=\"1\" class=\"dataframe\">\n",
       "  <thead>\n",
       "    <tr style=\"text-align: right;\">\n",
       "      <th></th>\n",
       "      <th>artist</th>\n",
       "      <th>song_name</th>\n",
       "      <th>lyrics</th>\n",
       "    </tr>\n",
       "  </thead>\n",
       "  <tbody>\n",
       "    <tr>\n",
       "      <th>0</th>\n",
       "      <td>robyn</td>\n",
       "      <td>includemeout</td>\n",
       "      <td>\"Include Me Out\"\\n\\n\\n\\nIt is really very simp...</td>\n",
       "    </tr>\n",
       "    <tr>\n",
       "      <th>1</th>\n",
       "      <td>robyn</td>\n",
       "      <td>electric</td>\n",
       "      <td>\"Electric\"\\n\\n\\n\\nElectric...\\n\\nIt's electric...</td>\n",
       "    </tr>\n",
       "    <tr>\n",
       "      <th>2</th>\n",
       "      <td>robyn</td>\n",
       "      <td>beach2k20</td>\n",
       "      <td>\"Beach 2K20\"\\n\\n\\n\\n(So you wanna go out?\\nHow...</td>\n",
       "    </tr>\n",
       "    <tr>\n",
       "      <th>3</th>\n",
       "      <td>robyn</td>\n",
       "      <td>lovekills</td>\n",
       "      <td>\"Love Kills\"\\n\\n\\n\\nIf you're looking for love...</td>\n",
       "    </tr>\n",
       "    <tr>\n",
       "      <th>4</th>\n",
       "      <td>robyn</td>\n",
       "      <td>timemachine</td>\n",
       "      <td>\"Time Machine\"\\n\\n\\n\\nHey, what did I do?\\nCan...</td>\n",
       "    </tr>\n",
       "  </tbody>\n",
       "</table>\n",
       "</div>"
      ],
      "text/plain": [
       "  artist     song_name                                             lyrics\n",
       "0  robyn  includemeout  \"Include Me Out\"\\n\\n\\n\\nIt is really very simp...\n",
       "1  robyn      electric  \"Electric\"\\n\\n\\n\\nElectric...\\n\\nIt's electric...\n",
       "2  robyn     beach2k20  \"Beach 2K20\"\\n\\n\\n\\n(So you wanna go out?\\nHow...\n",
       "3  robyn     lovekills  \"Love Kills\"\\n\\n\\n\\nIf you're looking for love...\n",
       "4  robyn   timemachine  \"Time Machine\"\\n\\n\\n\\nHey, what did I do?\\nCan..."
      ]
     },
     "execution_count": 4,
     "metadata": {},
     "output_type": "execute_result"
    }
   ],
   "source": [
    "# Read in the lyrics data here to result in a df\n",
    "# Initialize a list to collect the data as loop through artists\n",
    "lyrics_data = []\n",
    "lyrics_path = os.path.join(data_location, lyrics_folder)\n",
    "\n",
    "# Loop through artists \n",
    "for artist in os.listdir(lyrics_path):\n",
    "    artist_path = os.path.join(lyrics_path, artist)\n",
    "    # Loop through all song file names in each artist folder \n",
    "    for song_file in os.listdir(artist_path):\n",
    "        song_path = os.path.join(artist_path, song_file)\n",
    "        with open(song_path, 'r', encoding='utf-8') as file:\n",
    "            lyrics = file.read()\n",
    "            # Extract song name from song_file\n",
    "            song_name = song_file.split('_', 1)[-1].rsplit('.txt', 1)[0]\n",
    "            # Append a tuple with artist, song name, and lyrics to list \n",
    "            lyrics_data.append((artist, song_name, lyrics))\n",
    "\n",
    "# Create a DataFrame from the collected data in list\n",
    "lyrics_df = pd.DataFrame(lyrics_data, columns=['artist', 'song_name', 'lyrics'])\n",
    "\n",
    "# Check data is as expected\n",
    "lyrics_df.head()"
   ]
  },
  {
   "cell_type": "code",
   "execution_count": 7,
   "id": "debcac5a",
   "metadata": {},
   "outputs": [
    {
     "data": {
      "text/html": [
       "<div>\n",
       "<style scoped>\n",
       "    .dataframe tbody tr th:only-of-type {\n",
       "        vertical-align: middle;\n",
       "    }\n",
       "\n",
       "    .dataframe tbody tr th {\n",
       "        vertical-align: top;\n",
       "    }\n",
       "\n",
       "    .dataframe thead th {\n",
       "        text-align: right;\n",
       "    }\n",
       "</style>\n",
       "<table border=\"1\" class=\"dataframe\">\n",
       "  <thead>\n",
       "    <tr style=\"text-align: right;\">\n",
       "      <th></th>\n",
       "      <th>artist</th>\n",
       "      <th>description</th>\n",
       "    </tr>\n",
       "  </thead>\n",
       "  <tbody>\n",
       "    <tr>\n",
       "      <th>0</th>\n",
       "      <td>cher</td>\n",
       "      <td>NaN</td>\n",
       "    </tr>\n",
       "    <tr>\n",
       "      <th>1</th>\n",
       "      <td>cher</td>\n",
       "      <td>𝙿𝚛𝚘𝚞𝚍 𝚜𝚞𝚙𝚙𝚘𝚛𝚝𝚎𝚛 𝚘𝚏 𝚖𝚎𝚜𝚜𝚢 𝚋𝚞𝚗𝚜 &amp; 𝚕𝚎𝚐𝚐𝚒𝚗𝚐𝚜</td>\n",
       "    </tr>\n",
       "    <tr>\n",
       "      <th>2</th>\n",
       "      <td>cher</td>\n",
       "      <td>163㎝／愛かっぷ💜26歳🍒 工〇好きな女の子💓 フォローしてくれたらDMします🧡</td>\n",
       "    </tr>\n",
       "    <tr>\n",
       "      <th>3</th>\n",
       "      <td>cher</td>\n",
       "      <td>csu</td>\n",
       "    </tr>\n",
       "    <tr>\n",
       "      <th>4</th>\n",
       "      <td>cher</td>\n",
       "      <td>Writer @Washinformer @SpelmanCollege alumna #D...</td>\n",
       "    </tr>\n",
       "  </tbody>\n",
       "</table>\n",
       "</div>"
      ],
      "text/plain": [
       "  artist                                        description\n",
       "0   cher                                                NaN\n",
       "1   cher           𝙿𝚛𝚘𝚞𝚍 𝚜𝚞𝚙𝚙𝚘𝚛𝚝𝚎𝚛 𝚘𝚏 𝚖𝚎𝚜𝚜𝚢 𝚋𝚞𝚗𝚜 & 𝚕𝚎𝚐𝚐𝚒𝚗𝚐𝚜\n",
       "2   cher          163㎝／愛かっぷ💜26歳🍒 工〇好きな女の子💓 フォローしてくれたらDMします🧡\n",
       "3   cher                                                csu\n",
       "4   cher  Writer @Washinformer @SpelmanCollege alumna #D..."
      ]
     },
     "execution_count": 7,
     "metadata": {},
     "output_type": "execute_result"
    }
   ],
   "source": [
    "# Read in the twitter data to result in df\n",
    "artist_files = {'cher':'cher_followers_data.txt',\n",
    "                'robyn':'robynkonichiwa_followers_data.txt'}\n",
    "\n",
    "# Read in Cher data\n",
    "twitter_data = pd.read_csv(data_location + twitter_folder + artist_files['cher'],\n",
    "                           sep=\"\\t\",\n",
    "                           quoting=3)\n",
    "\n",
    "twitter_data['artist'] = \"cher\"\n",
    "\n",
    "# Read in Robyn data\n",
    "twitter_data_2 = pd.read_csv(data_location + twitter_folder + artist_files['robyn'],\n",
    "                             sep=\"\\t\",\n",
    "                             quoting=3)\n",
    "twitter_data_2['artist'] = \"robyn\"\n",
    "\n",
    "# Concat both & delete redundant df\n",
    "twitter_data = pd.concat([\n",
    "    twitter_data,twitter_data_2])\n",
    "del(twitter_data_2)\n",
    "\n",
    "# Keep only description field\n",
    "twitter_data = twitter_data[['artist', 'description']]\n",
    "twitter_data.head()"
   ]
  },
  {
   "cell_type": "markdown",
   "id": "bfd96d49",
   "metadata": {},
   "source": [
    "### Set Up Sentiments Dataframe"
   ]
  },
  {
   "cell_type": "code",
   "execution_count": 8,
   "id": "af9e7a4b",
   "metadata": {},
   "outputs": [
    {
     "data": {
      "text/html": [
       "<div>\n",
       "<style scoped>\n",
       "    .dataframe tbody tr th:only-of-type {\n",
       "        vertical-align: middle;\n",
       "    }\n",
       "\n",
       "    .dataframe tbody tr th {\n",
       "        vertical-align: top;\n",
       "    }\n",
       "\n",
       "    .dataframe thead th {\n",
       "        text-align: right;\n",
       "    }\n",
       "</style>\n",
       "<table border=\"1\" class=\"dataframe\">\n",
       "  <thead>\n",
       "    <tr style=\"text-align: right;\">\n",
       "      <th></th>\n",
       "      <th>word</th>\n",
       "      <th>score</th>\n",
       "    </tr>\n",
       "  </thead>\n",
       "  <tbody>\n",
       "    <tr>\n",
       "      <th>0</th>\n",
       "      <td>a+</td>\n",
       "      <td>1</td>\n",
       "    </tr>\n",
       "    <tr>\n",
       "      <th>1</th>\n",
       "      <td>abound</td>\n",
       "      <td>1</td>\n",
       "    </tr>\n",
       "    <tr>\n",
       "      <th>2</th>\n",
       "      <td>abounds</td>\n",
       "      <td>1</td>\n",
       "    </tr>\n",
       "    <tr>\n",
       "      <th>3</th>\n",
       "      <td>abundance</td>\n",
       "      <td>1</td>\n",
       "    </tr>\n",
       "    <tr>\n",
       "      <th>4</th>\n",
       "      <td>abundant</td>\n",
       "      <td>1</td>\n",
       "    </tr>\n",
       "  </tbody>\n",
       "</table>\n",
       "</div>"
      ],
      "text/plain": [
       "        word  score\n",
       "0         a+      1\n",
       "1     abound      1\n",
       "2    abounds      1\n",
       "3  abundance      1\n",
       "4   abundant      1"
      ]
     },
     "execution_count": 8,
     "metadata": {},
     "output_type": "execute_result"
    }
   ],
   "source": [
    "# Read in the positive and negative words and the\n",
    "# tidytext sentiment. Store these so that the positive\n",
    "# words are associated with a score of +1 and negative words\n",
    "# are associated with a score of -1. You can use a dataframe or a \n",
    "# dictionary for this.\n",
    "\n",
    "# Read in positive words & assign score of +1\n",
    "with open(positive_words_file, 'r') as file:\n",
    "    positive_words = file.read().splitlines()\n",
    "\n",
    "# Filter out comments & empty lines\n",
    "positive_words = [word for word in positive_words if word and not word.startswith(';')]\n",
    "\n",
    "# Create df for positive words\n",
    "df_positive = pd.DataFrame(positive_words, columns=['word'])\n",
    "df_positive['score'] = 1\n",
    "df_positive.head()"
   ]
  },
  {
   "cell_type": "code",
   "execution_count": 10,
   "id": "861b1c9b",
   "metadata": {},
   "outputs": [
    {
     "data": {
      "text/html": [
       "<div>\n",
       "<style scoped>\n",
       "    .dataframe tbody tr th:only-of-type {\n",
       "        vertical-align: middle;\n",
       "    }\n",
       "\n",
       "    .dataframe tbody tr th {\n",
       "        vertical-align: top;\n",
       "    }\n",
       "\n",
       "    .dataframe thead th {\n",
       "        text-align: right;\n",
       "    }\n",
       "</style>\n",
       "<table border=\"1\" class=\"dataframe\">\n",
       "  <thead>\n",
       "    <tr style=\"text-align: right;\">\n",
       "      <th></th>\n",
       "      <th>word</th>\n",
       "      <th>score</th>\n",
       "    </tr>\n",
       "  </thead>\n",
       "  <tbody>\n",
       "    <tr>\n",
       "      <th>0</th>\n",
       "      <td>2-faced</td>\n",
       "      <td>-1</td>\n",
       "    </tr>\n",
       "    <tr>\n",
       "      <th>1</th>\n",
       "      <td>2-faces</td>\n",
       "      <td>-1</td>\n",
       "    </tr>\n",
       "    <tr>\n",
       "      <th>2</th>\n",
       "      <td>abnormal</td>\n",
       "      <td>-1</td>\n",
       "    </tr>\n",
       "    <tr>\n",
       "      <th>3</th>\n",
       "      <td>abolish</td>\n",
       "      <td>-1</td>\n",
       "    </tr>\n",
       "    <tr>\n",
       "      <th>4</th>\n",
       "      <td>abominable</td>\n",
       "      <td>-1</td>\n",
       "    </tr>\n",
       "  </tbody>\n",
       "</table>\n",
       "</div>"
      ],
      "text/plain": [
       "         word  score\n",
       "0     2-faced     -1\n",
       "1     2-faces     -1\n",
       "2    abnormal     -1\n",
       "3     abolish     -1\n",
       "4  abominable     -1"
      ]
     },
     "execution_count": 10,
     "metadata": {},
     "output_type": "execute_result"
    }
   ],
   "source": [
    "# Read in negative words & assign score of -1\n",
    "with open(negative_words_file, 'r') as file:\n",
    "    negative_words = file.read().splitlines()\n",
    "\n",
    "# Filter out comments & empty lines\n",
    "negative_words = [word for word in negative_words if word and not word.startswith(';')]\n",
    "\n",
    "# Create df for negative words\n",
    "df_negative = pd.DataFrame(negative_words, columns=['word'])\n",
    "df_negative['score'] = -1\n",
    "df_negative.head()"
   ]
  },
  {
   "cell_type": "code",
   "execution_count": 12,
   "id": "c6e07032",
   "metadata": {},
   "outputs": [
    {
     "data": {
      "text/html": [
       "<div>\n",
       "<style scoped>\n",
       "    .dataframe tbody tr th:only-of-type {\n",
       "        vertical-align: middle;\n",
       "    }\n",
       "\n",
       "    .dataframe tbody tr th {\n",
       "        vertical-align: top;\n",
       "    }\n",
       "\n",
       "    .dataframe thead th {\n",
       "        text-align: right;\n",
       "    }\n",
       "</style>\n",
       "<table border=\"1\" class=\"dataframe\">\n",
       "  <thead>\n",
       "    <tr style=\"text-align: right;\">\n",
       "      <th></th>\n",
       "      <th>word</th>\n",
       "      <th>score</th>\n",
       "    </tr>\n",
       "  </thead>\n",
       "  <tbody>\n",
       "    <tr>\n",
       "      <th>0</th>\n",
       "      <td>abandon</td>\n",
       "      <td>-1</td>\n",
       "    </tr>\n",
       "    <tr>\n",
       "      <th>1</th>\n",
       "      <td>abandoned</td>\n",
       "      <td>-1</td>\n",
       "    </tr>\n",
       "    <tr>\n",
       "      <th>2</th>\n",
       "      <td>abandonment</td>\n",
       "      <td>-1</td>\n",
       "    </tr>\n",
       "    <tr>\n",
       "      <th>3</th>\n",
       "      <td>abba</td>\n",
       "      <td>1</td>\n",
       "    </tr>\n",
       "    <tr>\n",
       "      <th>4</th>\n",
       "      <td>abduction</td>\n",
       "      <td>-1</td>\n",
       "    </tr>\n",
       "  </tbody>\n",
       "</table>\n",
       "</div>"
      ],
      "text/plain": [
       "          word  score\n",
       "0      abandon     -1\n",
       "1    abandoned     -1\n",
       "2  abandonment     -1\n",
       "3         abba      1\n",
       "4    abduction     -1"
      ]
     },
     "execution_count": 12,
     "metadata": {},
     "output_type": "execute_result"
    }
   ],
   "source": [
    "# Read in tidytext sentiments\n",
    "df_tidytext = pd.read_csv(tidy_text_file, delimiter='\\t')\n",
    "\n",
    "# Map sentiment to score (1 for pos, -1 for negative)\n",
    "sentiment_score_map = {'positive': 1, 'negative': -1}\n",
    "df_tidytext['score'] = df_tidytext['sentiment'].map(sentiment_score_map)\n",
    "\n",
    "# Keep only the required columns\n",
    "df_tidytext = df_tidytext[['word', 'score']]\n",
    "df_tidytext.head()"
   ]
  },
  {
   "cell_type": "code",
   "execution_count": 14,
   "id": "d0b33c65",
   "metadata": {},
   "outputs": [
    {
     "data": {
      "text/html": [
       "<div>\n",
       "<style scoped>\n",
       "    .dataframe tbody tr th:only-of-type {\n",
       "        vertical-align: middle;\n",
       "    }\n",
       "\n",
       "    .dataframe tbody tr th {\n",
       "        vertical-align: top;\n",
       "    }\n",
       "\n",
       "    .dataframe thead th {\n",
       "        text-align: right;\n",
       "    }\n",
       "</style>\n",
       "<table border=\"1\" class=\"dataframe\">\n",
       "  <thead>\n",
       "    <tr style=\"text-align: right;\">\n",
       "      <th></th>\n",
       "      <th>word</th>\n",
       "      <th>score</th>\n",
       "    </tr>\n",
       "  </thead>\n",
       "  <tbody>\n",
       "    <tr>\n",
       "      <th>0</th>\n",
       "      <td>a+</td>\n",
       "      <td>1</td>\n",
       "    </tr>\n",
       "    <tr>\n",
       "      <th>1</th>\n",
       "      <td>abound</td>\n",
       "      <td>1</td>\n",
       "    </tr>\n",
       "    <tr>\n",
       "      <th>2</th>\n",
       "      <td>abounds</td>\n",
       "      <td>1</td>\n",
       "    </tr>\n",
       "    <tr>\n",
       "      <th>3</th>\n",
       "      <td>abundance</td>\n",
       "      <td>1</td>\n",
       "    </tr>\n",
       "    <tr>\n",
       "      <th>4</th>\n",
       "      <td>abundant</td>\n",
       "      <td>1</td>\n",
       "    </tr>\n",
       "  </tbody>\n",
       "</table>\n",
       "</div>"
      ],
      "text/plain": [
       "        word  score\n",
       "0         a+      1\n",
       "1     abound      1\n",
       "2    abounds      1\n",
       "3  abundance      1\n",
       "4   abundant      1"
      ]
     },
     "execution_count": 14,
     "metadata": {},
     "output_type": "execute_result"
    }
   ],
   "source": [
    "# Combine all 3 dfs above\n",
    "df_combined_lexicons = pd.concat([df_positive, df_negative, df_tidytext]).reset_index(drop=True)\n",
    "df_combined_lexicons.head()"
   ]
  },
  {
   "cell_type": "markdown",
   "id": "6a5f3b12",
   "metadata": {},
   "source": [
    "## Sentiment Analysis on Songs\n",
    "\n",
    "In this section, score the sentiment for all the songs for both artists in your data set. Score the sentiment by manually calculating the sentiment using the combined lexicons provided in this repository. \n",
    "\n",
    "After you have calculated these sentiments, answer the questions at the end of this section.\n"
   ]
  },
  {
   "cell_type": "code",
   "execution_count": 22,
   "id": "664f8d8f",
   "metadata": {},
   "outputs": [],
   "source": [
    "# Use bing_liu_score() method from textbook Github\n",
    "def bing_liu_score(text):\n",
    "    # Convert combined lexicons df to dict to use in this method\n",
    "    word_dict = dict(zip(df_combined_lexicons['word'], df_combined_lexicons['score']))\n",
    "    # Code below is straight from textbook Github\n",
    "    sentiment_score = 0\n",
    "    bag_of_words = word_tokenize(text.lower())\n",
    "    word_count = len(bag_of_words)\n",
    "    for word in bag_of_words:\n",
    "        if word in word_dict:\n",
    "            sentiment_score += word_dict[word]\n",
    "    return sentiment_score / word_count if word_count != 0 else 0"
   ]
  },
  {
   "cell_type": "code",
   "execution_count": 23,
   "id": "874dc41a",
   "metadata": {},
   "outputs": [
    {
     "data": {
      "text/html": [
       "<div>\n",
       "<style scoped>\n",
       "    .dataframe tbody tr th:only-of-type {\n",
       "        vertical-align: middle;\n",
       "    }\n",
       "\n",
       "    .dataframe tbody tr th {\n",
       "        vertical-align: top;\n",
       "    }\n",
       "\n",
       "    .dataframe thead th {\n",
       "        text-align: right;\n",
       "    }\n",
       "</style>\n",
       "<table border=\"1\" class=\"dataframe\">\n",
       "  <thead>\n",
       "    <tr style=\"text-align: right;\">\n",
       "      <th></th>\n",
       "      <th>artist</th>\n",
       "      <th>song_name</th>\n",
       "      <th>lyrics</th>\n",
       "      <th>sentiment_score</th>\n",
       "    </tr>\n",
       "  </thead>\n",
       "  <tbody>\n",
       "    <tr>\n",
       "      <th>0</th>\n",
       "      <td>robyn</td>\n",
       "      <td>includemeout</td>\n",
       "      <td>\"Include Me Out\"\\n\\n\\n\\nIt is really very simp...</td>\n",
       "      <td>0.027132</td>\n",
       "    </tr>\n",
       "    <tr>\n",
       "      <th>1</th>\n",
       "      <td>robyn</td>\n",
       "      <td>electric</td>\n",
       "      <td>\"Electric\"\\n\\n\\n\\nElectric...\\n\\nIt's electric...</td>\n",
       "      <td>0.075908</td>\n",
       "    </tr>\n",
       "    <tr>\n",
       "      <th>2</th>\n",
       "      <td>robyn</td>\n",
       "      <td>beach2k20</td>\n",
       "      <td>\"Beach 2K20\"\\n\\n\\n\\n(So you wanna go out?\\nHow...</td>\n",
       "      <td>0.049881</td>\n",
       "    </tr>\n",
       "    <tr>\n",
       "      <th>3</th>\n",
       "      <td>robyn</td>\n",
       "      <td>lovekills</td>\n",
       "      <td>\"Love Kills\"\\n\\n\\n\\nIf you're looking for love...</td>\n",
       "      <td>-0.049689</td>\n",
       "    </tr>\n",
       "    <tr>\n",
       "      <th>4</th>\n",
       "      <td>robyn</td>\n",
       "      <td>timemachine</td>\n",
       "      <td>\"Time Machine\"\\n\\n\\n\\nHey, what did I do?\\nCan...</td>\n",
       "      <td>-0.019231</td>\n",
       "    </tr>\n",
       "  </tbody>\n",
       "</table>\n",
       "</div>"
      ],
      "text/plain": [
       "  artist     song_name                                             lyrics  \\\n",
       "0  robyn  includemeout  \"Include Me Out\"\\n\\n\\n\\nIt is really very simp...   \n",
       "1  robyn      electric  \"Electric\"\\n\\n\\n\\nElectric...\\n\\nIt's electric...   \n",
       "2  robyn     beach2k20  \"Beach 2K20\"\\n\\n\\n\\n(So you wanna go out?\\nHow...   \n",
       "3  robyn     lovekills  \"Love Kills\"\\n\\n\\n\\nIf you're looking for love...   \n",
       "4  robyn   timemachine  \"Time Machine\"\\n\\n\\n\\nHey, what did I do?\\nCan...   \n",
       "\n",
       "   sentiment_score  \n",
       "0         0.027132  \n",
       "1         0.075908  \n",
       "2         0.049881  \n",
       "3        -0.049689  \n",
       "4        -0.019231  "
      ]
     },
     "execution_count": 23,
     "metadata": {},
     "output_type": "execute_result"
    }
   ],
   "source": [
    "# Apply bing_liu_score() to lyrics col of lyrics_df to get sentiment score for each song\n",
    "lyrics_df['sentiment_score'] = lyrics_df['lyrics'].apply(bing_liu_score)\n",
    "lyrics_df.head()"
   ]
  },
  {
   "cell_type": "markdown",
   "id": "692d9d13",
   "metadata": {},
   "source": [
    "### Questions"
   ]
  },
  {
   "cell_type": "code",
   "execution_count": 24,
   "id": "42ced5ed",
   "metadata": {},
   "outputs": [
    {
     "data": {
      "text/html": [
       "<div>\n",
       "<style scoped>\n",
       "    .dataframe tbody tr th:only-of-type {\n",
       "        vertical-align: middle;\n",
       "    }\n",
       "\n",
       "    .dataframe tbody tr th {\n",
       "        vertical-align: top;\n",
       "    }\n",
       "\n",
       "    .dataframe thead th {\n",
       "        text-align: right;\n",
       "    }\n",
       "</style>\n",
       "<table border=\"1\" class=\"dataframe\">\n",
       "  <thead>\n",
       "    <tr style=\"text-align: right;\">\n",
       "      <th></th>\n",
       "      <th>artist</th>\n",
       "      <th>sentiment_score</th>\n",
       "    </tr>\n",
       "  </thead>\n",
       "  <tbody>\n",
       "    <tr>\n",
       "      <th>0</th>\n",
       "      <td>cher</td>\n",
       "      <td>0.026867</td>\n",
       "    </tr>\n",
       "    <tr>\n",
       "      <th>1</th>\n",
       "      <td>robyn</td>\n",
       "      <td>0.029665</td>\n",
       "    </tr>\n",
       "  </tbody>\n",
       "</table>\n",
       "</div>"
      ],
      "text/plain": [
       "  artist  sentiment_score\n",
       "0   cher         0.026867\n",
       "1  robyn         0.029665"
      ]
     },
     "execution_count": 24,
     "metadata": {},
     "output_type": "execute_result"
    }
   ],
   "source": [
    "lyrics_df.groupby('artist')['sentiment_score'].mean().reset_index()"
   ]
  },
  {
   "cell_type": "markdown",
   "id": "3e72f676",
   "metadata": {},
   "source": [
    "Q: Overall, which artist has the higher average sentiment per song? \n",
    "\n",
    "A: <!-- Your answer here -->"
   ]
  },
  {
   "cell_type": "code",
   "execution_count": 30,
   "id": "05dd0ec2",
   "metadata": {},
   "outputs": [
    {
     "data": {
      "text/html": [
       "<div>\n",
       "<style scoped>\n",
       "    .dataframe tbody tr th:only-of-type {\n",
       "        vertical-align: middle;\n",
       "    }\n",
       "\n",
       "    .dataframe tbody tr th {\n",
       "        vertical-align: top;\n",
       "    }\n",
       "\n",
       "    .dataframe thead th {\n",
       "        text-align: right;\n",
       "    }\n",
       "</style>\n",
       "<table border=\"1\" class=\"dataframe\">\n",
       "  <thead>\n",
       "    <tr style=\"text-align: right;\">\n",
       "      <th></th>\n",
       "      <th>artist</th>\n",
       "      <th>song_name</th>\n",
       "      <th>lyrics</th>\n",
       "      <th>sentiment_score</th>\n",
       "    </tr>\n",
       "  </thead>\n",
       "  <tbody>\n",
       "    <tr>\n",
       "      <th>145</th>\n",
       "      <td>cher</td>\n",
       "      <td>bangbang</td>\n",
       "      <td>\"Bang-Bang\"\\n\\n\\n\\nBang bang you shot me down\\nBang bang I hit the ground\\nBang bang that awful sound\\nBang bang my baby shot me down\\n\\nI was five and you were six\\nWe rode on horses made of sticks\\nI wore black you wore white\\nYou would always win the fight\\n\\nBang bang you shot me down\\nBang bang I hit the ground\\nBang bang that awful sound\\nBang bang my baby shot me down\\n\\nSeasons came and changed the time\\nI grew up I called you mine\\nYou would always laugh and say\\nRemember when we used to play\\n\\nBang bang you shot me down\\nBang bang and I hit the ground\\nBang bang that awful sound\\nBang bang my baby shot me down\\n\\nMusic played and people sang\\nJust for me the church bells rang\\nAfter echoes from a gun\\nWe both vowed that we'd be one\\n\\nNow you're gone I don't know why\\nSometimes I cry\\nYou didn't say goodbye\\nYou didn't take the time to lie\\n\\nBang bang you shot me down\\nBang bang I hit the ground\\nBang bang that awful sound\\nBang bang my baby shot me down\\n\\nBang bang you shot me right between my eyes\\nBang bang you can't go paralyzed\\nBang bang bang bang bang bang\\nBang bang oh baby I'm laying on the ground\\nBang bang I'll never come around\\n\\nBang bang\\nBang bang\\nOh baby\\nBang bang\\nOh baby come and wrap me\\nBang bang\\nYou see how sweet it's gonna be\\n\\nBang bang\\nBang bang\\nBang bang\\nOh my baby my baby shot me down\\nBang bang\\nI'm up on the ground now\\n</td>\n",
       "      <td>-0.243056</td>\n",
       "    </tr>\n",
       "    <tr>\n",
       "      <th>299</th>\n",
       "      <td>cher</td>\n",
       "      <td>bangbangmybabyshotmedown</td>\n",
       "      <td>\"Bang Bang (My Baby Shot Me Down)\"\\n\\n\\n\\nI was five and he was six\\nWe rode on horses made of sticks\\nHe wore black and I wore white\\nHe would always win the fight\\n\\nBang bang, he shot me down\\nBang bang, I hit the ground\\nBang bang, that awful sound\\nBang bang, my baby shot me down\\n\\nSeasons came and changed the time\\nWhen I grew up I called him mine\\nHe would always laugh and say\\nRemember when we used to play\\n\\nBang bang, I shot you down\\nBang bang, you hit the ground\\nBang bang, that awful sound\\nBang bang, I used to shoot you down\\n\\nMusic played and people sang\\nJust for me the church bells rang\\n\\nNow he's gone I don't know why\\nAnd 'til this day, sometimes I cry\\nHe didn't even say goodbye\\nHe didn't take the time to lie\\n\\nBang bang, he shot me down\\nBang bang, I hit the ground\\nBang bang, that awful sound\\nBang bang, my baby shot me down\\n</td>\n",
       "      <td>-0.182292</td>\n",
       "    </tr>\n",
       "    <tr>\n",
       "      <th>344</th>\n",
       "      <td>cher</td>\n",
       "      <td>crymyselftosleep</td>\n",
       "      <td>\"Cry Myself To Sleep\"\\n\\n\\n\\nEvery night, I lay my head\\nOn my pillow on my bed\\nAnd I just cry myself to sleep\\n\\nI know I shouldn't cry\\nOver words that were all lies\\nBut still, I cry myself to sleep\\n\\nEach night, I fight the tears\\nBut still they fall\\nAnd all the memories linger on\\nHe's gone, he's gone\\nAnd now there's nothing but to cry\\nCry myself to sleep\\nStill, I cry myself to sleep\\n\\nEach night, I fight those tears\\nBut still, they fall\\nAnd all the memories linger on\\nHe's gone, he's gone, he's gone\\nAnd now there's nothing but to cry\\nAh, cry myself to sleep\\nAh, cry myself to sleep\\nAh, cry myself to sleep\\n</td>\n",
       "      <td>-0.111111</td>\n",
       "    </tr>\n",
       "  </tbody>\n",
       "</table>\n",
       "</div>"
      ],
      "text/plain": [
       "    artist                 song_name  \\\n",
       "145   cher                  bangbang   \n",
       "299   cher  bangbangmybabyshotmedown   \n",
       "344   cher          crymyselftosleep   \n",
       "\n",
       "                                                                                                                                                                                                                                                                                                                                                                                                                                                                                                                                                                                                                                                                                                                                                                                                                                                                                                                                                                                                                                                                                                                                                                                                                                                                                                                                                                                                                                              lyrics  \\\n",
       "145  \"Bang-Bang\"\\n\\n\\n\\nBang bang you shot me down\\nBang bang I hit the ground\\nBang bang that awful sound\\nBang bang my baby shot me down\\n\\nI was five and you were six\\nWe rode on horses made of sticks\\nI wore black you wore white\\nYou would always win the fight\\n\\nBang bang you shot me down\\nBang bang I hit the ground\\nBang bang that awful sound\\nBang bang my baby shot me down\\n\\nSeasons came and changed the time\\nI grew up I called you mine\\nYou would always laugh and say\\nRemember when we used to play\\n\\nBang bang you shot me down\\nBang bang and I hit the ground\\nBang bang that awful sound\\nBang bang my baby shot me down\\n\\nMusic played and people sang\\nJust for me the church bells rang\\nAfter echoes from a gun\\nWe both vowed that we'd be one\\n\\nNow you're gone I don't know why\\nSometimes I cry\\nYou didn't say goodbye\\nYou didn't take the time to lie\\n\\nBang bang you shot me down\\nBang bang I hit the ground\\nBang bang that awful sound\\nBang bang my baby shot me down\\n\\nBang bang you shot me right between my eyes\\nBang bang you can't go paralyzed\\nBang bang bang bang bang bang\\nBang bang oh baby I'm laying on the ground\\nBang bang I'll never come around\\n\\nBang bang\\nBang bang\\nOh baby\\nBang bang\\nOh baby come and wrap me\\nBang bang\\nYou see how sweet it's gonna be\\n\\nBang bang\\nBang bang\\nBang bang\\nOh my baby my baby shot me down\\nBang bang\\nI'm up on the ground now\\n   \n",
       "299                                                                                                                                                                                                                                                                                                                                                                                                                                                                                                                                                \"Bang Bang (My Baby Shot Me Down)\"\\n\\n\\n\\nI was five and he was six\\nWe rode on horses made of sticks\\nHe wore black and I wore white\\nHe would always win the fight\\n\\nBang bang, he shot me down\\nBang bang, I hit the ground\\nBang bang, that awful sound\\nBang bang, my baby shot me down\\n\\nSeasons came and changed the time\\nWhen I grew up I called him mine\\nHe would always laugh and say\\nRemember when we used to play\\n\\nBang bang, I shot you down\\nBang bang, you hit the ground\\nBang bang, that awful sound\\nBang bang, I used to shoot you down\\n\\nMusic played and people sang\\nJust for me the church bells rang\\n\\nNow he's gone I don't know why\\nAnd 'til this day, sometimes I cry\\nHe didn't even say goodbye\\nHe didn't take the time to lie\\n\\nBang bang, he shot me down\\nBang bang, I hit the ground\\nBang bang, that awful sound\\nBang bang, my baby shot me down\\n   \n",
       "344                                                                                                                                                                                                                                                                                                                                                                                                                                                                                                                                                                                                                                                                                                                                                                                         \"Cry Myself To Sleep\"\\n\\n\\n\\nEvery night, I lay my head\\nOn my pillow on my bed\\nAnd I just cry myself to sleep\\n\\nI know I shouldn't cry\\nOver words that were all lies\\nBut still, I cry myself to sleep\\n\\nEach night, I fight the tears\\nBut still they fall\\nAnd all the memories linger on\\nHe's gone, he's gone\\nAnd now there's nothing but to cry\\nCry myself to sleep\\nStill, I cry myself to sleep\\n\\nEach night, I fight those tears\\nBut still, they fall\\nAnd all the memories linger on\\nHe's gone, he's gone, he's gone\\nAnd now there's nothing but to cry\\nAh, cry myself to sleep\\nAh, cry myself to sleep\\nAh, cry myself to sleep\\n   \n",
       "\n",
       "     sentiment_score  \n",
       "145        -0.243056  \n",
       "299        -0.182292  \n",
       "344        -0.111111  "
      ]
     },
     "execution_count": 30,
     "metadata": {},
     "output_type": "execute_result"
    }
   ],
   "source": [
    "# Increase max colwidth so get full lyrics\n",
    "pd.set_option('display.max_colwidth', None)\n",
    "# Get Cher's 3 lowest sentiment scores\n",
    "lyrics_df[lyrics_df[\"artist\"] == \"cher\"].sort_values(by=['sentiment_score']).head(3)"
   ]
  },
  {
   "cell_type": "code",
   "execution_count": 31,
   "id": "f4bd2f95",
   "metadata": {},
   "outputs": [
    {
     "data": {
      "text/html": [
       "<div>\n",
       "<style scoped>\n",
       "    .dataframe tbody tr th:only-of-type {\n",
       "        vertical-align: middle;\n",
       "    }\n",
       "\n",
       "    .dataframe tbody tr th {\n",
       "        vertical-align: top;\n",
       "    }\n",
       "\n",
       "    .dataframe thead th {\n",
       "        text-align: right;\n",
       "    }\n",
       "</style>\n",
       "<table border=\"1\" class=\"dataframe\">\n",
       "  <thead>\n",
       "    <tr style=\"text-align: right;\">\n",
       "      <th></th>\n",
       "      <th>artist</th>\n",
       "      <th>song_name</th>\n",
       "      <th>lyrics</th>\n",
       "      <th>sentiment_score</th>\n",
       "    </tr>\n",
       "  </thead>\n",
       "  <tbody>\n",
       "    <tr>\n",
       "      <th>119</th>\n",
       "      <td>cher</td>\n",
       "      <td>mylove</td>\n",
       "      <td>\"My Love\"\\n\\n\\n\\nWhen I go away\\nI know my heart can stay with my love\\nIt's understood\\nEverywhere with my love\\nMy love does it good, whoa\\nMy love, oh only my love\\nMy love does it good\\n\\nAnd when the cupboard's bare\\nI'll still find something there with my love\\nIt's understood\\nEverywhere with my love\\nMy love does it so good, whoa\\nMy love, oh only my love\\nMy love does it good\\n\\nOnly my love, oh only my love\\nOnly my love, hold the other things to me\\nOh, only my love, oh only my love\\nOnly my love does it good to me\\n\\nEverywhere with my love\\nDon't you see my love\\nIt does it so good\\nOh, only my love, only my love\\nMy love does it good\\n\\nDon't ever ask me why\\nI never say \"good-bye\" to my love\\nIt's understood\\n'Cause everywhere with my love\\nMy love does it good, whoa\\nOnly my love, oh only my love\\nMy love does it good\\n\\nOh only my love\\nOnly my love does it good to me,whoa\\n</td>\n",
       "      <td>0.222222</td>\n",
       "    </tr>\n",
       "    <tr>\n",
       "      <th>250</th>\n",
       "      <td>cher</td>\n",
       "      <td>loveandunderstanding</td>\n",
       "      <td>\"Love And Understanding\"\\n\\n\\n\\nHere, here in this world\\nWhere do we go? Where can we turn?\\nWhen we need some love\\nIt seems that love just can't be found\\nWhere, where do we stand?\\nWhen love's supply don't meet love's demand\\n\\nWe got enough stars to light the sky at night\\nEnough sun to make to make the whole world bright\\nWe got more than enough\\nBut there's one thing there's just not enough of\\n\\nNot enough love and understanding\\nWe could use some love to ease these troubled times\\nNot enough love and understanding\\nWhy, oh why?\\n\\nSpend all of our time\\nBuilding buildings up to the sky\\nReaching everywhere\\nBut where we need to reach the most\\nHearts never can win\\nOh, in this race, this race that we're in\\n\\nWe've got enough cars to drive around the world\\nEnough planes to take us anywhere\\nWe got more than enough\\nBut there's one thing there's just not enough of\\n\\nNot enough love and understanding\\nWe could use some love to ease these troubled times\\nNot enough love and understanding\\nWhy, oh why?\\n\\nNot enough love and understanding\\nWe could use some love to ease these troubled times\\nNot enough love and understanding\\nWhy, oh why?\\n\\nWe need some understandin'\\nWe need a little more love\\nSome love and understandin'\\n\\nEnough stars to light the sky at night\\nEnough sun to make the whole world bright\\nEnough hearts to find some love inside\\nWe got more than enough\\nBut there's one thing there's just not enough of\\n\\nNot enough love and understanding\\nWe could use some love to ease these troubled times\\nNot enough love and understanding\\nWhy, oh why?\\n...\\n</td>\n",
       "      <td>0.192926</td>\n",
       "    </tr>\n",
       "    <tr>\n",
       "      <th>189</th>\n",
       "      <td>cher</td>\n",
       "      <td>sunny</td>\n",
       "      <td>\"Sunny\"\\n\\n\\n\\nSunny, yesterday my life was filled with rain\\nSunny, you smiled at me and then it eased my pain\\nNow the dark days are gone and bright days are here\\nMy Sunny once shined so sincere, Sunny once so true\\nI love you I love you\\n\\nSunny thank you for the sunshine you gave to me\\nSunny thank you for the love you brought my way\\nYou gave to me your all and all\\nAnd now I feel that I'm 10 feet tall\\nSunny once so true, I love you\\n\\nSunny thank you for the truth that you let me see\\nSunny thank you for the facts from A to Z\\nSomehow I was torn like a wind blown sail\\nThen our love was borned when you held my hand\\nSunny once so true, I love you\\n\\nSunny thank you for the sunshine you gave to me\\nSunny thank you for the love you brought my way\\nYou gave to me your all and all\\nAnd now I feel that I'm 10 feet tall\\nSunny once so true, I love you\\n</td>\n",
       "      <td>0.192708</td>\n",
       "    </tr>\n",
       "  </tbody>\n",
       "</table>\n",
       "</div>"
      ],
      "text/plain": [
       "    artist             song_name  \\\n",
       "119   cher                mylove   \n",
       "250   cher  loveandunderstanding   \n",
       "189   cher                 sunny   \n",
       "\n",
       "                                                                                                                                                                                                                                                                                                                                                                                                                                                                                                                                                                                                                                                                                                                                                                                                                                                                                                                                                                                                                                                                                                                                                                                                                                                                                                                                                                                                                                                                                                                                                                                                                                                           lyrics  \\\n",
       "119                                                                                                                                                                                                                                                                                                                                                                                                                                                                                                                                                                                                                                                                                                                      \"My Love\"\\n\\n\\n\\nWhen I go away\\nI know my heart can stay with my love\\nIt's understood\\nEverywhere with my love\\nMy love does it good, whoa\\nMy love, oh only my love\\nMy love does it good\\n\\nAnd when the cupboard's bare\\nI'll still find something there with my love\\nIt's understood\\nEverywhere with my love\\nMy love does it so good, whoa\\nMy love, oh only my love\\nMy love does it good\\n\\nOnly my love, oh only my love\\nOnly my love, hold the other things to me\\nOh, only my love, oh only my love\\nOnly my love does it good to me\\n\\nEverywhere with my love\\nDon't you see my love\\nIt does it so good\\nOh, only my love, only my love\\nMy love does it good\\n\\nDon't ever ask me why\\nI never say \"good-bye\" to my love\\nIt's understood\\n'Cause everywhere with my love\\nMy love does it good, whoa\\nOnly my love, oh only my love\\nMy love does it good\\n\\nOh only my love\\nOnly my love does it good to me,whoa\\n   \n",
       "250  \"Love And Understanding\"\\n\\n\\n\\nHere, here in this world\\nWhere do we go? Where can we turn?\\nWhen we need some love\\nIt seems that love just can't be found\\nWhere, where do we stand?\\nWhen love's supply don't meet love's demand\\n\\nWe got enough stars to light the sky at night\\nEnough sun to make to make the whole world bright\\nWe got more than enough\\nBut there's one thing there's just not enough of\\n\\nNot enough love and understanding\\nWe could use some love to ease these troubled times\\nNot enough love and understanding\\nWhy, oh why?\\n\\nSpend all of our time\\nBuilding buildings up to the sky\\nReaching everywhere\\nBut where we need to reach the most\\nHearts never can win\\nOh, in this race, this race that we're in\\n\\nWe've got enough cars to drive around the world\\nEnough planes to take us anywhere\\nWe got more than enough\\nBut there's one thing there's just not enough of\\n\\nNot enough love and understanding\\nWe could use some love to ease these troubled times\\nNot enough love and understanding\\nWhy, oh why?\\n\\nNot enough love and understanding\\nWe could use some love to ease these troubled times\\nNot enough love and understanding\\nWhy, oh why?\\n\\nWe need some understandin'\\nWe need a little more love\\nSome love and understandin'\\n\\nEnough stars to light the sky at night\\nEnough sun to make the whole world bright\\nEnough hearts to find some love inside\\nWe got more than enough\\nBut there's one thing there's just not enough of\\n\\nNot enough love and understanding\\nWe could use some love to ease these troubled times\\nNot enough love and understanding\\nWhy, oh why?\\n...\\n   \n",
       "189                                                                                                                                                                                                                                                                                                                                                                                                                                                                                                                                                                                                                                                                                                                                                           \"Sunny\"\\n\\n\\n\\nSunny, yesterday my life was filled with rain\\nSunny, you smiled at me and then it eased my pain\\nNow the dark days are gone and bright days are here\\nMy Sunny once shined so sincere, Sunny once so true\\nI love you I love you\\n\\nSunny thank you for the sunshine you gave to me\\nSunny thank you for the love you brought my way\\nYou gave to me your all and all\\nAnd now I feel that I'm 10 feet tall\\nSunny once so true, I love you\\n\\nSunny thank you for the truth that you let me see\\nSunny thank you for the facts from A to Z\\nSomehow I was torn like a wind blown sail\\nThen our love was borned when you held my hand\\nSunny once so true, I love you\\n\\nSunny thank you for the sunshine you gave to me\\nSunny thank you for the love you brought my way\\nYou gave to me your all and all\\nAnd now I feel that I'm 10 feet tall\\nSunny once so true, I love you\\n   \n",
       "\n",
       "     sentiment_score  \n",
       "119         0.222222  \n",
       "250         0.192926  \n",
       "189         0.192708  "
      ]
     },
     "execution_count": 31,
     "metadata": {},
     "output_type": "execute_result"
    }
   ],
   "source": [
    "# Get Cher's 3 highest sentiment scores\n",
    "lyrics_df[lyrics_df[\"artist\"] == \"cher\"].sort_values(by=['sentiment_score'], ascending=False).head(3)"
   ]
  },
  {
   "cell_type": "markdown",
   "id": "fafee223",
   "metadata": {},
   "source": [
    "Q: For your first artist, what are the three songs that have the highest and lowest sentiments? Print the lyrics of those songs to the screen. What do you think is driving the sentiment score? \n",
    "\n",
    "A: <!-- Your answer here -->"
   ]
  },
  {
   "cell_type": "code",
   "execution_count": 32,
   "id": "638d7e7c",
   "metadata": {},
   "outputs": [
    {
     "data": {
      "text/html": [
       "<div>\n",
       "<style scoped>\n",
       "    .dataframe tbody tr th:only-of-type {\n",
       "        vertical-align: middle;\n",
       "    }\n",
       "\n",
       "    .dataframe tbody tr th {\n",
       "        vertical-align: top;\n",
       "    }\n",
       "\n",
       "    .dataframe thead th {\n",
       "        text-align: right;\n",
       "    }\n",
       "</style>\n",
       "<table border=\"1\" class=\"dataframe\">\n",
       "  <thead>\n",
       "    <tr style=\"text-align: right;\">\n",
       "      <th></th>\n",
       "      <th>artist</th>\n",
       "      <th>song_name</th>\n",
       "      <th>lyrics</th>\n",
       "      <th>sentiment_score</th>\n",
       "    </tr>\n",
       "  </thead>\n",
       "  <tbody>\n",
       "    <tr>\n",
       "      <th>75</th>\n",
       "      <td>robyn</td>\n",
       "      <td>dontfuckingtellmewhattodo114520</td>\n",
       "      <td>\"Don't Fucking Tell Me What To Do\"\\n\\n\\n\\nMy drinking is killing me\\nMy drinking is killing me\\nMy drinking is killing me\\nMy drinking is killing me\\nMy drinking is killing me\\nMy drinking is killing me\\nMy drinking is killing me\\nMy drinking is killing me\\nMy drinking is killing me\\nMy drinking is killing me\\nMy drinking is killing me\\nMy drinking is killing me\\nMy drinking is killing me\\nMy drinking is killing me\\nMy drinking is killing me\\n\\nMy smoking is killing me\\nMy diet is killing me\\nMy heels are killing me\\nMy shopping's killing me\\nMy ego is killing me\\nCan't sleep, it's killing me\\nMy label's killing me\\nKickdrum\\n\\nMy phone is killing me\\nMy email is killing me\\nThese hours are killing me\\nMy tour is killing me\\nThis flight is killing me\\nMy manager's killing me\\nMy mother's killing me\\nMy landlord's killing me\\nMy boss is killing me\\nThe TV is killing me\\nYour nagging is killing me\\nMy boyfriend's killing me\\nMy talking's killing me\\nKilling me\\nKilling me\\n\\nCan't sleep, it's killing me\\nMy dreams are killing me\\nTV is killing me\\nMy talking's killing me\\nLet go, you're killing me\\nEase up, you're killing me\\nCalm down, you're killing me\\nMy god, you're killing me\\n\\nMy drinking is killing me\\nMy smoking is killing me\\nMy head is killing me\\nMy mind is killing me\\nMy back is killing me\\nMy neck is killing me\\nYour nagging is killing me\\nMy gut is killing me\\nMy PMS is killing me\\nMy email is killing me\\nThese hours are killing me\\nMy tour is killing me\\nThis flight is killing me\\nMy manager's killing me\\nMy mother's killing me\\nMy landlord's killing me\\nMy smoking is killing me\\nThe TV is killing me\\nYour nagging is killing me\\nEase up, you're killing me\\nLet go, you're killing me\\nCalm down, you're killing me\\nMy god, you're killing me\\n\\nDon't fucking tell me what to do, do\\nDon't fucking tell me what to do, do, do, do, do\\nDon't fucking tell me what to do\\nDon't fucking tell me what to do, do\\nDon't fucking tell me what to do, do\\nDon't fucking tell me what to do\\nDon't fucking tell me what to do\\nDon't fucking tell me what to do\\nDon't fucking tell me what to do\\n</td>\n",
       "      <td>-0.194690</td>\n",
       "    </tr>\n",
       "    <tr>\n",
       "      <th>53</th>\n",
       "      <td>robyn</td>\n",
       "      <td>dontfuckingtellmewhattodo</td>\n",
       "      <td>\"Don't Fucking Tell Me What To Do\"\\n\\n\\n\\nMy drinking is killing me\\nMy drinking is killing me\\nMy drinking is killing me\\nMy drinking is killing me\\nMy drinking is killing me\\nMy drinking is killing me\\nMy drinking is killing me\\nMy drinking is killing me\\nMy drinking is killing me\\nMy drinking is killing me\\nMy drinking is killing me\\nMy drinking is killing me\\nMy drinking is killing me\\nMy drinking is killing me\\nMy drinking is killing me\\n\\nMy smoking is killing me\\nMy diet is killing me\\nMy heels are killing me\\nMy shopping's killing me\\nMy ego is killing me\\nCan't sleep, it's killing me\\nMy label's killing me\\nKickdrum\\n\\nMy phone is killing me\\nMy email is killing me\\nThese hours are killing me\\nMy tour is killing me\\nThis flight is killing me\\nMy manager's killing me\\nMy mother's killing me\\nMy landlord's killing me\\nMy boss is killing me\\nThe TV is killing me\\nYour nagging is killing me\\nMy boyfriend's killing me\\nMy talking's killing me\\nKilling me\\nKilling me\\n\\nCan't sleep, it's killing me\\nMy dreams are killing me\\nTV is killing me\\nMy talking's killing me\\nLet go, you're killing me\\nEase up, you're killing me\\nCalm down, you're killing me\\nMy god, you're killing me\\n\\nMy drinking is killing me\\nMy smoking is killing me\\nMy head is killing me\\nMy mind is killing me\\nMy back is killing me\\nMy neck is killing me\\nYour nagging is killing me\\nMy gut is killing me\\nMy PMS is killing me\\nMy email is killing me\\nThese hours are killing me\\nMy tour is killing me\\nThis flight is killing me\\nMy manager's killing me\\nMy mother's killing me\\nMy landlord's killing me\\nMy smoking is killing me\\nThe TV is killing me\\nYour nagging is killing me\\nEase up, you're killing me\\nLet go, you're killing me\\nCalm down, you're killing me\\nMy god, you're killing me\\n\\nDon't fucking tell me what to do, do\\nDon't fucking tell me what to do, do, do, do, do\\nDon't fucking tell me what to do\\nDon't fucking tell me what to do, do\\nDon't fucking tell me what to do, do\\nDon't fucking tell me what to do\\nDon't fucking tell me what to do\\nDon't fucking tell me what to do\\nDon't fucking tell me what to do\\n</td>\n",
       "      <td>-0.194690</td>\n",
       "    </tr>\n",
       "    <tr>\n",
       "      <th>16</th>\n",
       "      <td>robyn</td>\n",
       "      <td>criminalintent</td>\n",
       "      <td>\"Criminal Intent\"\\n\\n\\n\\nSomebody alert the authorities, I got criminal intent\\nConspiracy to engage in lewd and indecent acts and events\\nI'mma wind it, grind it, oh my, I'mma say it again\\nSomebody alert the authorities, she's got criminal intent\\n\\nSomebody alert the authorities, I got criminal intent\\nConspiracy to engage in lewd and indecent acts and events\\nI'mma wind it, grind it, oh my, I'mma say it again\\nSomebody alert the authorities, she's got criminal intent\\n\\nSomebody alert the authorities, I got criminal intent\\nConspiracy to engage in lewd and indecent acts and events\\nI'mma wind it, grind it, oh my, I'mma say it again\\nSomebody alert the authorities, I got criminal intent\\n\\n- Will the defendant please rise? State your full name for the record.\\n- Robyn\\n- Do you wish to say anything before the sentence is imposed?\\n- I do your Honor!\\n\\nYou know, from time to time\\nI need to get down\\nUnwind and just bump and grind\\nGet my shot on, have some fun\\nA little dirty never hurt anyone\\nI admit, I can get somewhat X-rated on the floor\\nBut your Honor, how's that something you get incarcerated for?\\n\\nI-I-I done nothing that's wrong \\n?? something that's frowned upon\\nI object most strongly Judge, they played my song\\n\\nSomebody alert the authorities, I got criminal intent\\nConspiracy to engage in lewd and indecent acts and events\\nI'mma wind it, grind it, oh my, I'mma say it again\\nSomebody alert the authorities, she's got criminal intent\\n\\nSomebody alert the authorities, I got criminal intent\\nConspiracy to engage in lewd and indecent acts and events\\nI'mma wind it, grind it, oh my, I'mma say it again\\nSomebody alert the authorities, I got criminal intent\\nSomebody alert the authorities, she's got criminal intent\\n\\nY-yo-yo Judge, may the record reflect the fact \\nI don't have any priors\\nBesides, would you pardon me \\nFor being inappropriately attired?\\nBut yo, listen, them cuffs down at county\\nTotally ripped up my pantyhose\\nAnd some snitch punk at legal aid\\nStole my voucher for court clothes\\n\\nI done nothing that's wrong \\n?? something that's frowned upon\\nI object most strongly Judge, they played my song\\n\\nSomebody alert the authorities, I got criminal intent\\nConspiracy to engage in lewd and indecent acts and events\\nI'mma wind it, grind it, oh my, I'mma say it again\\nSomebody alert the authorities, she's got criminal intent\\n\\nSomebody alert the authorities, I got criminal intent\\nConspiracy to engage in lewd and indecent acts and events\\nI'mma wind it, grind it, oh my, I'mma say it again\\nSomebody alert the authorities, I got criminal intent\\nSomebody alert the authorities, she's got criminal intent\\n</td>\n",
       "      <td>-0.101167</td>\n",
       "    </tr>\n",
       "  </tbody>\n",
       "</table>\n",
       "</div>"
      ],
      "text/plain": [
       "   artist                        song_name  \\\n",
       "75  robyn  dontfuckingtellmewhattodo114520   \n",
       "53  robyn        dontfuckingtellmewhattodo   \n",
       "16  robyn                   criminalintent   \n",
       "\n",
       "                                                                                                                                                                                                                                                                                                                                                                                                                                                                                                                                                                                                                                                                                                                                                                                                                                                                                                                                                                                                                                                                                                                                                                                                                                                                                                                                                                                                                                                                                                                                                                                                                                                                                                                                                                                                                                                                                                                                                                                                                                                                                                                                                                                                                                                                                                                                                                                                                                                                                                                                                                                                                                                                                                                                                                               lyrics  \\\n",
       "75                                                                                                                                                                                                                                                                                                                                                                                                                                                                                                                                                                            \"Don't Fucking Tell Me What To Do\"\\n\\n\\n\\nMy drinking is killing me\\nMy drinking is killing me\\nMy drinking is killing me\\nMy drinking is killing me\\nMy drinking is killing me\\nMy drinking is killing me\\nMy drinking is killing me\\nMy drinking is killing me\\nMy drinking is killing me\\nMy drinking is killing me\\nMy drinking is killing me\\nMy drinking is killing me\\nMy drinking is killing me\\nMy drinking is killing me\\nMy drinking is killing me\\n\\nMy smoking is killing me\\nMy diet is killing me\\nMy heels are killing me\\nMy shopping's killing me\\nMy ego is killing me\\nCan't sleep, it's killing me\\nMy label's killing me\\nKickdrum\\n\\nMy phone is killing me\\nMy email is killing me\\nThese hours are killing me\\nMy tour is killing me\\nThis flight is killing me\\nMy manager's killing me\\nMy mother's killing me\\nMy landlord's killing me\\nMy boss is killing me\\nThe TV is killing me\\nYour nagging is killing me\\nMy boyfriend's killing me\\nMy talking's killing me\\nKilling me\\nKilling me\\n\\nCan't sleep, it's killing me\\nMy dreams are killing me\\nTV is killing me\\nMy talking's killing me\\nLet go, you're killing me\\nEase up, you're killing me\\nCalm down, you're killing me\\nMy god, you're killing me\\n\\nMy drinking is killing me\\nMy smoking is killing me\\nMy head is killing me\\nMy mind is killing me\\nMy back is killing me\\nMy neck is killing me\\nYour nagging is killing me\\nMy gut is killing me\\nMy PMS is killing me\\nMy email is killing me\\nThese hours are killing me\\nMy tour is killing me\\nThis flight is killing me\\nMy manager's killing me\\nMy mother's killing me\\nMy landlord's killing me\\nMy smoking is killing me\\nThe TV is killing me\\nYour nagging is killing me\\nEase up, you're killing me\\nLet go, you're killing me\\nCalm down, you're killing me\\nMy god, you're killing me\\n\\nDon't fucking tell me what to do, do\\nDon't fucking tell me what to do, do, do, do, do\\nDon't fucking tell me what to do\\nDon't fucking tell me what to do, do\\nDon't fucking tell me what to do, do\\nDon't fucking tell me what to do\\nDon't fucking tell me what to do\\nDon't fucking tell me what to do\\nDon't fucking tell me what to do\\n   \n",
       "53                                                                                                                                                                                                                                                                                                                                                                                                                                                                                                                                                                            \"Don't Fucking Tell Me What To Do\"\\n\\n\\n\\nMy drinking is killing me\\nMy drinking is killing me\\nMy drinking is killing me\\nMy drinking is killing me\\nMy drinking is killing me\\nMy drinking is killing me\\nMy drinking is killing me\\nMy drinking is killing me\\nMy drinking is killing me\\nMy drinking is killing me\\nMy drinking is killing me\\nMy drinking is killing me\\nMy drinking is killing me\\nMy drinking is killing me\\nMy drinking is killing me\\n\\nMy smoking is killing me\\nMy diet is killing me\\nMy heels are killing me\\nMy shopping's killing me\\nMy ego is killing me\\nCan't sleep, it's killing me\\nMy label's killing me\\nKickdrum\\n\\nMy phone is killing me\\nMy email is killing me\\nThese hours are killing me\\nMy tour is killing me\\nThis flight is killing me\\nMy manager's killing me\\nMy mother's killing me\\nMy landlord's killing me\\nMy boss is killing me\\nThe TV is killing me\\nYour nagging is killing me\\nMy boyfriend's killing me\\nMy talking's killing me\\nKilling me\\nKilling me\\n\\nCan't sleep, it's killing me\\nMy dreams are killing me\\nTV is killing me\\nMy talking's killing me\\nLet go, you're killing me\\nEase up, you're killing me\\nCalm down, you're killing me\\nMy god, you're killing me\\n\\nMy drinking is killing me\\nMy smoking is killing me\\nMy head is killing me\\nMy mind is killing me\\nMy back is killing me\\nMy neck is killing me\\nYour nagging is killing me\\nMy gut is killing me\\nMy PMS is killing me\\nMy email is killing me\\nThese hours are killing me\\nMy tour is killing me\\nThis flight is killing me\\nMy manager's killing me\\nMy mother's killing me\\nMy landlord's killing me\\nMy smoking is killing me\\nThe TV is killing me\\nYour nagging is killing me\\nEase up, you're killing me\\nLet go, you're killing me\\nCalm down, you're killing me\\nMy god, you're killing me\\n\\nDon't fucking tell me what to do, do\\nDon't fucking tell me what to do, do, do, do, do\\nDon't fucking tell me what to do\\nDon't fucking tell me what to do, do\\nDon't fucking tell me what to do, do\\nDon't fucking tell me what to do\\nDon't fucking tell me what to do\\nDon't fucking tell me what to do\\nDon't fucking tell me what to do\\n   \n",
       "16  \"Criminal Intent\"\\n\\n\\n\\nSomebody alert the authorities, I got criminal intent\\nConspiracy to engage in lewd and indecent acts and events\\nI'mma wind it, grind it, oh my, I'mma say it again\\nSomebody alert the authorities, she's got criminal intent\\n\\nSomebody alert the authorities, I got criminal intent\\nConspiracy to engage in lewd and indecent acts and events\\nI'mma wind it, grind it, oh my, I'mma say it again\\nSomebody alert the authorities, she's got criminal intent\\n\\nSomebody alert the authorities, I got criminal intent\\nConspiracy to engage in lewd and indecent acts and events\\nI'mma wind it, grind it, oh my, I'mma say it again\\nSomebody alert the authorities, I got criminal intent\\n\\n- Will the defendant please rise? State your full name for the record.\\n- Robyn\\n- Do you wish to say anything before the sentence is imposed?\\n- I do your Honor!\\n\\nYou know, from time to time\\nI need to get down\\nUnwind and just bump and grind\\nGet my shot on, have some fun\\nA little dirty never hurt anyone\\nI admit, I can get somewhat X-rated on the floor\\nBut your Honor, how's that something you get incarcerated for?\\n\\nI-I-I done nothing that's wrong \\n?? something that's frowned upon\\nI object most strongly Judge, they played my song\\n\\nSomebody alert the authorities, I got criminal intent\\nConspiracy to engage in lewd and indecent acts and events\\nI'mma wind it, grind it, oh my, I'mma say it again\\nSomebody alert the authorities, she's got criminal intent\\n\\nSomebody alert the authorities, I got criminal intent\\nConspiracy to engage in lewd and indecent acts and events\\nI'mma wind it, grind it, oh my, I'mma say it again\\nSomebody alert the authorities, I got criminal intent\\nSomebody alert the authorities, she's got criminal intent\\n\\nY-yo-yo Judge, may the record reflect the fact \\nI don't have any priors\\nBesides, would you pardon me \\nFor being inappropriately attired?\\nBut yo, listen, them cuffs down at county\\nTotally ripped up my pantyhose\\nAnd some snitch punk at legal aid\\nStole my voucher for court clothes\\n\\nI done nothing that's wrong \\n?? something that's frowned upon\\nI object most strongly Judge, they played my song\\n\\nSomebody alert the authorities, I got criminal intent\\nConspiracy to engage in lewd and indecent acts and events\\nI'mma wind it, grind it, oh my, I'mma say it again\\nSomebody alert the authorities, she's got criminal intent\\n\\nSomebody alert the authorities, I got criminal intent\\nConspiracy to engage in lewd and indecent acts and events\\nI'mma wind it, grind it, oh my, I'mma say it again\\nSomebody alert the authorities, I got criminal intent\\nSomebody alert the authorities, she's got criminal intent\\n   \n",
       "\n",
       "    sentiment_score  \n",
       "75        -0.194690  \n",
       "53        -0.194690  \n",
       "16        -0.101167  "
      ]
     },
     "execution_count": 32,
     "metadata": {},
     "output_type": "execute_result"
    }
   ],
   "source": [
    "# Get Robyn's 3 lowest sentiment scores\n",
    "lyrics_df[lyrics_df[\"artist\"] == \"robyn\"].sort_values(by=['sentiment_score']).head(3)"
   ]
  },
  {
   "cell_type": "code",
   "execution_count": 33,
   "id": "c24d65ab",
   "metadata": {},
   "outputs": [
    {
     "data": {
      "text/html": [
       "<div>\n",
       "<style scoped>\n",
       "    .dataframe tbody tr th:only-of-type {\n",
       "        vertical-align: middle;\n",
       "    }\n",
       "\n",
       "    .dataframe tbody tr th {\n",
       "        vertical-align: top;\n",
       "    }\n",
       "\n",
       "    .dataframe thead th {\n",
       "        text-align: right;\n",
       "    }\n",
       "</style>\n",
       "<table border=\"1\" class=\"dataframe\">\n",
       "  <thead>\n",
       "    <tr style=\"text-align: right;\">\n",
       "      <th></th>\n",
       "      <th>artist</th>\n",
       "      <th>song_name</th>\n",
       "      <th>lyrics</th>\n",
       "      <th>sentiment_score</th>\n",
       "    </tr>\n",
       "  </thead>\n",
       "  <tbody>\n",
       "    <tr>\n",
       "      <th>64</th>\n",
       "      <td>robyn</td>\n",
       "      <td>babyforgiveme</td>\n",
       "      <td>\"Baby Forgive Me\"\\n\\n\\n\\nHere come the night\\nIn your eyes\\nBaby, be brave\\nBe wise\\nIt's up to you\\nYou do what you like, mmm\\nWon't you give it a chance, baby?\\nJust one more try\\n\\nBaby forgive me\\nBaby forgive me\\nBaby forgive me\\nBaby forgive me\\n\\n(Won't you give it a chance, baby?)\\nWon't you give it a chance, baby?\\nJust one more try\\nOne more try\\nYeah, eh\\n\\nYou got the power\\nYou set the price\\nBut baby, be fair\\nBe nice\\nYou say you want to be happy\\nThen you got to put your love on the line\\nJust let me make you smile again, baby\\nI know we can work it out\\nYes, I know we can\\n\\nBaby forgive me\\nYeah\\nBaby forgive me\\nBaby forgive me\\nBaby forgive me\\nBaby forgive me\\nBaby forgive me\\nBaby forgive me\\nBaby forgive me\\n</td>\n",
       "      <td>0.245509</td>\n",
       "    </tr>\n",
       "    <tr>\n",
       "      <th>21</th>\n",
       "      <td>robyn</td>\n",
       "      <td>loveisfree</td>\n",
       "      <td>\"Love Is Free\"\\n\\n\\n\\nFree\\nLove is free, baby\\nFree\\nLove is free, baby\\nBoom boom boom boom boom chica boom\\nLet me give it to you, baby\\nChica boom chica boom chica boom\\nChica boom chica boom chica boom\\nFree\\nLove is free, baby\\nFree\\nLove is free, baby\\nBoom boom boom boom boom chica boom\\nLet me give it to you, baby\\n\\nI'ma give it to you, baby\\nI'ma give it when I'm ready\\nSome lose, some steady\\nSome light, some heavy\\nIt's all over this city\\nSometimes in the ugly, sometimes in the pretty\\nYou never know where you get it cause you can't control it and you can't unfold it, slow down\\n\\nI'ma give it to you, baby\\nI'ma give it when I'm ready\\nSome lose, some steady\\nSome light, some heavy\\nIt's all over this city\\nSometimes in the ugly, sometimes in the pretty\\nYou never know where you get it cause you can't control it and you can't unfold it, slow down\\n\\nFree\\nLove is free, baby\\nFree\\nLove is free, baby\\nBoom boom boom boom boom chica boom\\nLet me give it to you, baby\\nYeah! Yeah! Yeah! Yeah!\\nLove is free, baby\\nLove is free, baby\\n\\nI'ma give it to you, baby\\nI'ma give it like a motha\\nSafe like a rubber\\nMutter like a stutter\\nIt's all over this city\\nSometimes in the nitty, sometimes in the gritty\\nYou know I'ma give it to you better\\nI'ma give you love forever\\nNo, you can't control it, slow down\\n\\nI'ma give it to you, baby\\nI'ma give it like a motha\\nSafe like a rubber\\nMutter like a stutter\\nIt's all over this city\\nSometimes in the nitty, sometimes in the gritty\\nYou know I'ma give it to you better\\nI'ma give you love forever\\nNo, you can't control it, slow down\\n\\nFree\\nLove is free, baby\\nFree\\nLove is free, baby\\nBoom boom boom boom boom chica boom\\nLet me give it to you, baby\\nBoom boom boom boom boom\\nChica boom chica boom chica boom\\nBoom boom boom boom boom\\nChica boom chica boom chica boom\\nFree\\nLove is free, baby\\nFree\\nLove is free, baby\\n\\nAprÃ©ndelo, aprÃ©ndelo\\nTe lo digo right now, sÃ³lo entiÃ©ndelo\\nAprÃ©ndelo, aprÃ©ndelo\\nTe lo digo right now, sÃ³lo entiÃ©ndelo\\nSlow down\\n\\nAprÃ©ndelo, aprÃ©ndelo\\nTe lo digo right now, sÃ³lo entiÃ©ndelo\\nAprÃ©ndelo, aprÃ©ndelo\\nTe lo digo right now, sÃ³lo entiÃ©ndelo\\nSlow down\\n\\nI'ma give it to you, baby\\nI'ma give it when I'm ready\\nSome lose, some steady\\nSome light, some heavy\\nIt's all over this city\\nSometimes in the ugly, sometimes in the pretty\\nYou never know where you get it cause you can't control it and you can't unfold it, slow down\\n\\nSlow down [x6]\\nFree\\nLove is free, baby\\nLove is free, baby\\nSo free [x4]\\nYou know\\nLove is free\\nSo free\\nFree â Love is free, baby [x8]\\nSo free\\n</td>\n",
       "      <td>0.224382</td>\n",
       "    </tr>\n",
       "    <tr>\n",
       "      <th>50</th>\n",
       "      <td>robyn</td>\n",
       "      <td>wedancetothebeat114528</td>\n",
       "      <td>\"We Dance To The Beat\"\\n\\n\\n\\nWe dance to the beat\\nWe dance to the beat\\nWe dance to the beat\\nWe dance to the beat\\nWe dance to the beat\\nWe dance to the beat\\nWe dance to the beat\\nWe dance to the beat\\nWe dance to the beat\\nWe dance to the beat\\nWe dance to the beat\\nWe dance to the beat\\nWe dance to the beat\\nWe dance to the beat\\nWe dance to the beat\\nWe dance to the beat\\n\\nWe dance to the beat of the continents shifting under our feet\\nWe dance to the beat\\nWe dance to the beat\\nWe dance to the beat of a new, better, faster breed\\nWe dance to the beat\\nWe dance to the beat\\nWe dance to the beat of radioactivity blocking the exits\\nWe dance to the beat\\nWe dance to the beat\\nWe dance to the beat of false math and unrecognised genius\\nWe dance to the beat\\nWe dance to the beat\\nWe dance to the beat of distorted knowledge passed on\\nWe dance to the beat\\nWe dance to the beat\\nWe dance to the beat of a distant rumble\\nWe dance to the beat\\nWe dancing\\nAnd it's loud and proud\\nAnd it's loud and proud\\nAnd it's loud and proud\\n\\nWe dance to the beat\\nWe dance to the beat\\nWe dance to the beat\\nWe dance to the beat\\n\\nWe dance to the beat of silent mutation\\nWe dance to the beat of your brain not evolving fast enough\\nWe dance to the beat of raw talent wasted\\nWe dance to the beat of bad kissers clicking teeth\\nWe dance to the beat of opportunity knocking\\nWe dance to the beat of an eviction next door\\nWe dance to the beat\\nWe dance to the beat \\nOf another recycled rebellion\\nOf consolidating assets\\nOf another crowd losing it\\nOf your voice breaking up in static\\nOf suburbia burning\\nOf communication gone mad\\nWe dance to the beat\\nWe dance to the beat\\nWe dance to the beat\\nWe dance to the beat\\n\\nAnd we don't stop\\nAnd we don't stop\\nAnd we don't stop\\nAnd we don't stop\\nAnd we don't stop\\n\\nWe dance to the beat\\nWe dance to the beat\\nWe dance to the beat\\nWe dance to the beat\\nAnd we don't stop\\nAnd we don't stop\\n\\nWe dance to the beat of a billion charges of endorphin\\nWe dance to the beat\\nWe dance to the beat\\nWe dance to the beat of a love lost and then won back\\nWe dance to the beat\\nWe dance to the beat\\nWe dance to the beat of source code and conjuring\\nWe dance to the beat\\nWe dance to the beat\\nWe dance to the beat of gravity giving us a break\\nWe dance to the beat\\nWe dance to the beat\\nWe dance to the beat\\nWe dance...\\n</td>\n",
       "      <td>0.133858</td>\n",
       "    </tr>\n",
       "  </tbody>\n",
       "</table>\n",
       "</div>"
      ],
      "text/plain": [
       "   artist               song_name  \\\n",
       "64  robyn           babyforgiveme   \n",
       "21  robyn              loveisfree   \n",
       "50  robyn  wedancetothebeat114528   \n",
       "\n",
       "                                                                                                                                                                                                                                                                                                                                                                                                                                                                                                                                                                                                                                                                                                                                                                                                                                                                                                                                                                                                                                                                                                                                                                                                                                                                                                                                                                                                                                                                                                                                                                                                                                                                                                                                                                                                                                                                                                                                                                                                                                                                                                                                                                                                                                                                                                                                                                                                                                                                                                                                                                                                                                                                                                                     lyrics  \\\n",
       "64                                                                                                                                                                                                                                                                                                                                                                                                                                                                                                                                                                                                                                                                                                                                                                                                                                                                                                                                                                                                                                                                                                                                                                                                                                                                                                                                                                                                                                                                                                                                                                                                                                                                                                                                                                                                                                                                                                                                                    \"Baby Forgive Me\"\\n\\n\\n\\nHere come the night\\nIn your eyes\\nBaby, be brave\\nBe wise\\nIt's up to you\\nYou do what you like, mmm\\nWon't you give it a chance, baby?\\nJust one more try\\n\\nBaby forgive me\\nBaby forgive me\\nBaby forgive me\\nBaby forgive me\\n\\n(Won't you give it a chance, baby?)\\nWon't you give it a chance, baby?\\nJust one more try\\nOne more try\\nYeah, eh\\n\\nYou got the power\\nYou set the price\\nBut baby, be fair\\nBe nice\\nYou say you want to be happy\\nThen you got to put your love on the line\\nJust let me make you smile again, baby\\nI know we can work it out\\nYes, I know we can\\n\\nBaby forgive me\\nYeah\\nBaby forgive me\\nBaby forgive me\\nBaby forgive me\\nBaby forgive me\\nBaby forgive me\\nBaby forgive me\\nBaby forgive me\\n   \n",
       "21  \"Love Is Free\"\\n\\n\\n\\nFree\\nLove is free, baby\\nFree\\nLove is free, baby\\nBoom boom boom boom boom chica boom\\nLet me give it to you, baby\\nChica boom chica boom chica boom\\nChica boom chica boom chica boom\\nFree\\nLove is free, baby\\nFree\\nLove is free, baby\\nBoom boom boom boom boom chica boom\\nLet me give it to you, baby\\n\\nI'ma give it to you, baby\\nI'ma give it when I'm ready\\nSome lose, some steady\\nSome light, some heavy\\nIt's all over this city\\nSometimes in the ugly, sometimes in the pretty\\nYou never know where you get it cause you can't control it and you can't unfold it, slow down\\n\\nI'ma give it to you, baby\\nI'ma give it when I'm ready\\nSome lose, some steady\\nSome light, some heavy\\nIt's all over this city\\nSometimes in the ugly, sometimes in the pretty\\nYou never know where you get it cause you can't control it and you can't unfold it, slow down\\n\\nFree\\nLove is free, baby\\nFree\\nLove is free, baby\\nBoom boom boom boom boom chica boom\\nLet me give it to you, baby\\nYeah! Yeah! Yeah! Yeah!\\nLove is free, baby\\nLove is free, baby\\n\\nI'ma give it to you, baby\\nI'ma give it like a motha\\nSafe like a rubber\\nMutter like a stutter\\nIt's all over this city\\nSometimes in the nitty, sometimes in the gritty\\nYou know I'ma give it to you better\\nI'ma give you love forever\\nNo, you can't control it, slow down\\n\\nI'ma give it to you, baby\\nI'ma give it like a motha\\nSafe like a rubber\\nMutter like a stutter\\nIt's all over this city\\nSometimes in the nitty, sometimes in the gritty\\nYou know I'ma give it to you better\\nI'ma give you love forever\\nNo, you can't control it, slow down\\n\\nFree\\nLove is free, baby\\nFree\\nLove is free, baby\\nBoom boom boom boom boom chica boom\\nLet me give it to you, baby\\nBoom boom boom boom boom\\nChica boom chica boom chica boom\\nBoom boom boom boom boom\\nChica boom chica boom chica boom\\nFree\\nLove is free, baby\\nFree\\nLove is free, baby\\n\\nAprÃ©ndelo, aprÃ©ndelo\\nTe lo digo right now, sÃ³lo entiÃ©ndelo\\nAprÃ©ndelo, aprÃ©ndelo\\nTe lo digo right now, sÃ³lo entiÃ©ndelo\\nSlow down\\n\\nAprÃ©ndelo, aprÃ©ndelo\\nTe lo digo right now, sÃ³lo entiÃ©ndelo\\nAprÃ©ndelo, aprÃ©ndelo\\nTe lo digo right now, sÃ³lo entiÃ©ndelo\\nSlow down\\n\\nI'ma give it to you, baby\\nI'ma give it when I'm ready\\nSome lose, some steady\\nSome light, some heavy\\nIt's all over this city\\nSometimes in the ugly, sometimes in the pretty\\nYou never know where you get it cause you can't control it and you can't unfold it, slow down\\n\\nSlow down [x6]\\nFree\\nLove is free, baby\\nLove is free, baby\\nSo free [x4]\\nYou know\\nLove is free\\nSo free\\nFree â Love is free, baby [x8]\\nSo free\\n   \n",
       "50                                                                                                                                                                                                                                             \"We Dance To The Beat\"\\n\\n\\n\\nWe dance to the beat\\nWe dance to the beat\\nWe dance to the beat\\nWe dance to the beat\\nWe dance to the beat\\nWe dance to the beat\\nWe dance to the beat\\nWe dance to the beat\\nWe dance to the beat\\nWe dance to the beat\\nWe dance to the beat\\nWe dance to the beat\\nWe dance to the beat\\nWe dance to the beat\\nWe dance to the beat\\nWe dance to the beat\\n\\nWe dance to the beat of the continents shifting under our feet\\nWe dance to the beat\\nWe dance to the beat\\nWe dance to the beat of a new, better, faster breed\\nWe dance to the beat\\nWe dance to the beat\\nWe dance to the beat of radioactivity blocking the exits\\nWe dance to the beat\\nWe dance to the beat\\nWe dance to the beat of false math and unrecognised genius\\nWe dance to the beat\\nWe dance to the beat\\nWe dance to the beat of distorted knowledge passed on\\nWe dance to the beat\\nWe dance to the beat\\nWe dance to the beat of a distant rumble\\nWe dance to the beat\\nWe dancing\\nAnd it's loud and proud\\nAnd it's loud and proud\\nAnd it's loud and proud\\n\\nWe dance to the beat\\nWe dance to the beat\\nWe dance to the beat\\nWe dance to the beat\\n\\nWe dance to the beat of silent mutation\\nWe dance to the beat of your brain not evolving fast enough\\nWe dance to the beat of raw talent wasted\\nWe dance to the beat of bad kissers clicking teeth\\nWe dance to the beat of opportunity knocking\\nWe dance to the beat of an eviction next door\\nWe dance to the beat\\nWe dance to the beat \\nOf another recycled rebellion\\nOf consolidating assets\\nOf another crowd losing it\\nOf your voice breaking up in static\\nOf suburbia burning\\nOf communication gone mad\\nWe dance to the beat\\nWe dance to the beat\\nWe dance to the beat\\nWe dance to the beat\\n\\nAnd we don't stop\\nAnd we don't stop\\nAnd we don't stop\\nAnd we don't stop\\nAnd we don't stop\\n\\nWe dance to the beat\\nWe dance to the beat\\nWe dance to the beat\\nWe dance to the beat\\nAnd we don't stop\\nAnd we don't stop\\n\\nWe dance to the beat of a billion charges of endorphin\\nWe dance to the beat\\nWe dance to the beat\\nWe dance to the beat of a love lost and then won back\\nWe dance to the beat\\nWe dance to the beat\\nWe dance to the beat of source code and conjuring\\nWe dance to the beat\\nWe dance to the beat\\nWe dance to the beat of gravity giving us a break\\nWe dance to the beat\\nWe dance to the beat\\nWe dance to the beat\\nWe dance...\\n   \n",
       "\n",
       "    sentiment_score  \n",
       "64         0.245509  \n",
       "21         0.224382  \n",
       "50         0.133858  "
      ]
     },
     "execution_count": 33,
     "metadata": {},
     "output_type": "execute_result"
    }
   ],
   "source": [
    "# Get Robyn's 3 highest sentiment scores\n",
    "lyrics_df[lyrics_df[\"artist\"] == \"robyn\"].sort_values(by=['sentiment_score'], ascending=False).head(3)"
   ]
  },
  {
   "cell_type": "markdown",
   "id": "1f8334f4",
   "metadata": {},
   "source": [
    "Q: For your second artist, what are the three songs that have the highest and lowest sentiments? Print the lyrics of those songs to the screen. What do you think is driving the sentiment score? \n",
    "\n",
    "A: <!-- Your answer here -->\n",
    "\n",
    "Q: Plot the distributions of the sentiment scores for both artists. You can use `seaborn` to plot densities or plot histograms in matplotlib."
   ]
  },
  {
   "cell_type": "code",
   "execution_count": 36,
   "id": "c20e7d98",
   "metadata": {},
   "outputs": [
    {
     "data": {
      "image/png": "[encoded data removed]",
      "text/plain": [
       "<Figure size 1200x600 with 1 Axes>"
      ]
     },
     "metadata": {},
     "output_type": "display_data"
    }
   ],
   "source": [
    "# Plot distributions for both artists on same plot\n",
    "plt.figure(figsize=(12, 6))\n",
    "\n",
    "for artist in lyrics_df['artist'].unique():\n",
    "    artist_scores = lyrics_df[lyrics_df['artist'] == artist]['sentiment_score']\n",
    "    plt.hist(artist_scores, bins=30, alpha=0.5, label=artist)\n",
    "\n",
    "plt.title('Distribution of Sentiment Scores by Artist')\n",
    "plt.xlabel('Sentiment Score')\n",
    "plt.ylabel('Frequency')\n",
    "plt.legend(loc='upper right')\n",
    "plt.show()"
   ]
  },
  {
   "cell_type": "markdown",
   "id": "b3fe644d",
   "metadata": {},
   "source": [
    "## Sentiment Analysis on Twitter Descriptions\n",
    "\n",
    "In this section, define two sets of emojis you designate as positive and negative. Make sure to have at least 10 emojis per set. You can learn about the most popular emojis on Twitter at [the emojitracker](https://emojitracker.com/). \n",
    "\n",
    "Associate your positive emojis with a score of +1, negative with -1. Score the average sentiment of your two artists based on the Twitter descriptions of their followers. The average sentiment can just be the total score divided by number of followers. You do not need to calculate sentiment on non-emoji content for this section."
   ]
  },
  {
   "cell_type": "code",
   "execution_count": 39,
   "id": "1a5c1d25",
   "metadata": {},
   "outputs": [
    {
     "name": "stdout",
     "output_type": "stream",
     "text": [
      "{'😀': 1, '😃': 1, '😄': 1, '😊': 1, '😁': 1, '🤗': 1, '😍': 1, '🥰': 1, '😎': 1, '🎉': 1, '😠': -1, '😡': -1, '😢': -1, '😭': -1, '😞': -1, '😒': -1, '😔': -1, '😟': -1, '😩': -1, '😤': -1}\n"
     ]
    }
   ],
   "source": [
    "# Used this as a resource along with emojitracker: https://kt.ijs.si/data/Emoji_sentiment_ranking/\n",
    "# Define 10 pos & 10 negative emojis\n",
    "positive_emojis_unicode = [\"\\U0001F600\", \"\\U0001F603\", \"\\U0001F604\", \"\\U0001F60A\", \"\\U0001F601\", \n",
    "    \"\\U0001F917\", \"\\U0001F60D\", \"\\U0001F970\", \"\\U0001F60E\", \"\\U0001F389\"]\n",
    "negative_emojis_unicode = [\"\\U0001F620\", \"\\U0001F621\", \"\\U0001F622\", \"\\U0001F62D\", \"\\U0001F61E\", \n",
    "    \"\\U0001F612\", \"\\U0001F614\", \"\\U0001F61F\", \"\\U0001F629\", \"\\U0001F624\"]\n",
    "\n",
    "# Create dict & add scores (+1 or -1)\n",
    "emoji_lexicon_unicode = {emoji: 1 for emoji in positive_emojis_unicode}\n",
    "emoji_lexicon_unicode.update({emoji: -1 for emoji in negative_emojis_unicode})\n",
    "print(emoji_lexicon_unicode)"
   ]
  },
  {
   "cell_type": "code",
   "execution_count": 58,
   "id": "dea80549",
   "metadata": {},
   "outputs": [],
   "source": [
    "# Adapt bing_liu_score() method from textbook Github \n",
    "# use emoji dict instead of word_dict & loop through chars, not words\n",
    "def bing_liu_score_emoji(text):\n",
    "    # Handle cases where not a string\n",
    "    if type(text) != str:\n",
    "        return 0\n",
    "    else: \n",
    "        sentiment_score = 0\n",
    "        # Loop through characters, not words, bc people don't always separate out emojis with spaces\n",
    "        text_len = len(text)\n",
    "        for char in text:\n",
    "            if char in emoji_lexicon_unicode:\n",
    "                sentiment_score += emoji_lexicon_unicode[char]\n",
    "        return sentiment_score / text_len if text_len != 0 else 0"
   ]
  },
  {
   "cell_type": "code",
   "execution_count": 59,
   "id": "6f8249ee",
   "metadata": {},
   "outputs": [
    {
     "data": {
      "text/html": [
       "<div>\n",
       "<style scoped>\n",
       "    .dataframe tbody tr th:only-of-type {\n",
       "        vertical-align: middle;\n",
       "    }\n",
       "\n",
       "    .dataframe tbody tr th {\n",
       "        vertical-align: top;\n",
       "    }\n",
       "\n",
       "    .dataframe thead th {\n",
       "        text-align: right;\n",
       "    }\n",
       "</style>\n",
       "<table border=\"1\" class=\"dataframe\">\n",
       "  <thead>\n",
       "    <tr style=\"text-align: right;\">\n",
       "      <th></th>\n",
       "      <th>artist</th>\n",
       "      <th>description</th>\n",
       "      <th>sentiment_score</th>\n",
       "    </tr>\n",
       "  </thead>\n",
       "  <tbody>\n",
       "    <tr>\n",
       "      <th>0</th>\n",
       "      <td>cher</td>\n",
       "      <td>NaN</td>\n",
       "      <td>0.0</td>\n",
       "    </tr>\n",
       "    <tr>\n",
       "      <th>1</th>\n",
       "      <td>cher</td>\n",
       "      <td>𝙿𝚛𝚘𝚞𝚍 𝚜𝚞𝚙𝚙𝚘𝚛𝚝𝚎𝚛 𝚘𝚏 𝚖𝚎𝚜𝚜𝚢 𝚋𝚞𝚗𝚜 &amp; 𝚕𝚎𝚐𝚐𝚒𝚗𝚐𝚜</td>\n",
       "      <td>0.0</td>\n",
       "    </tr>\n",
       "    <tr>\n",
       "      <th>2</th>\n",
       "      <td>cher</td>\n",
       "      <td>163㎝／愛かっぷ💜26歳🍒 工〇好きな女の子💓 フォローしてくれたらDMします🧡</td>\n",
       "      <td>0.0</td>\n",
       "    </tr>\n",
       "    <tr>\n",
       "      <th>3</th>\n",
       "      <td>cher</td>\n",
       "      <td>csu</td>\n",
       "      <td>0.0</td>\n",
       "    </tr>\n",
       "    <tr>\n",
       "      <th>4</th>\n",
       "      <td>cher</td>\n",
       "      <td>Writer @Washinformer @SpelmanCollege alumna #DCnative Award-winning journalist &amp; PR pro @IABC Fellow &amp; Past Chair IG: bcscomm Email: wibsiler@gmail.com</td>\n",
       "      <td>0.0</td>\n",
       "    </tr>\n",
       "  </tbody>\n",
       "</table>\n",
       "</div>"
      ],
      "text/plain": [
       "  artist  \\\n",
       "0   cher   \n",
       "1   cher   \n",
       "2   cher   \n",
       "3   cher   \n",
       "4   cher   \n",
       "\n",
       "                                                                                                                                               description  \\\n",
       "0                                                                                                                                                      NaN   \n",
       "1                                                                                                                 𝙿𝚛𝚘𝚞𝚍 𝚜𝚞𝚙𝚙𝚘𝚛𝚝𝚎𝚛 𝚘𝚏 𝚖𝚎𝚜𝚜𝚢 𝚋𝚞𝚗𝚜 & 𝚕𝚎𝚐𝚐𝚒𝚗𝚐𝚜   \n",
       "2                                                                                                                163㎝／愛かっぷ💜26歳🍒 工〇好きな女の子💓 フォローしてくれたらDMします🧡   \n",
       "3                                                                                                                                                      csu   \n",
       "4  Writer @Washinformer @SpelmanCollege alumna #DCnative Award-winning journalist & PR pro @IABC Fellow & Past Chair IG: bcscomm Email: wibsiler@gmail.com   \n",
       "\n",
       "   sentiment_score  \n",
       "0              0.0  \n",
       "1              0.0  \n",
       "2              0.0  \n",
       "3              0.0  \n",
       "4              0.0  "
      ]
     },
     "execution_count": 59,
     "metadata": {},
     "output_type": "execute_result"
    }
   ],
   "source": [
    "# Apply bing_liu_score_emoji() to Twitter descriptions to get sentiment score for each description\n",
    "twitter_data['sentiment_score'] = twitter_data['description'].apply(bing_liu_score_emoji)\n",
    "twitter_data.head()"
   ]
  },
  {
   "cell_type": "code",
   "execution_count": 62,
   "id": "b937338b",
   "metadata": {},
   "outputs": [
    {
     "data": {
      "text/html": [
       "<div>\n",
       "<style scoped>\n",
       "    .dataframe tbody tr th:only-of-type {\n",
       "        vertical-align: middle;\n",
       "    }\n",
       "\n",
       "    .dataframe tbody tr th {\n",
       "        vertical-align: top;\n",
       "    }\n",
       "\n",
       "    .dataframe thead th {\n",
       "        text-align: right;\n",
       "    }\n",
       "</style>\n",
       "<table border=\"1\" class=\"dataframe\">\n",
       "  <thead>\n",
       "    <tr style=\"text-align: right;\">\n",
       "      <th></th>\n",
       "      <th>artist</th>\n",
       "      <th>sentiment_score</th>\n",
       "    </tr>\n",
       "  </thead>\n",
       "  <tbody>\n",
       "    <tr>\n",
       "      <th>0</th>\n",
       "      <td>cher</td>\n",
       "      <td>0.000480</td>\n",
       "    </tr>\n",
       "    <tr>\n",
       "      <th>1</th>\n",
       "      <td>robyn</td>\n",
       "      <td>0.000203</td>\n",
       "    </tr>\n",
       "  </tbody>\n",
       "</table>\n",
       "</div>"
      ],
      "text/plain": [
       "  artist  sentiment_score\n",
       "0   cher         0.000480\n",
       "1  robyn         0.000203"
      ]
     },
     "execution_count": 62,
     "metadata": {},
     "output_type": "execute_result"
    }
   ],
   "source": [
    "twitter_data.groupby('artist')['sentiment_score'].mean().reset_index()"
   ]
  },
  {
   "cell_type": "markdown",
   "id": "fb92eb93",
   "metadata": {},
   "source": [
    "Q: What is the average sentiment of your two artists? \n",
    "\n",
    "A: <!-- Your answer here --> "
   ]
  },
  {
   "cell_type": "code",
   "execution_count": 64,
   "id": "eb20954e",
   "metadata": {},
   "outputs": [
    {
     "name": "stdout",
     "output_type": "stream",
     "text": [
      "defaultdict(<function <lambda> at 0x7fe24855f820>, {'cher': defaultdict(<class 'int'>, {'😎': 5529, '😭': 730, '🥰': 4147, '😀': 1800, '😍': 8189, '😊': 4821, '😔': 387, '😄': 809, '😩': 335, '😁': 2729, '🤗': 1851, '🎉': 1093, '😃': 1010, '😤': 220, '😒': 288, '😠': 115, '😟': 45, '😡': 320, '😢': 341, '😞': 107}), 'robyn': defaultdict(<class 'int'>, {'😊': 189, '🥰': 132, '🤗': 68, '😍': 264, '😩': 13, '😁': 101, '😭': 41, '😎': 279, '😠': 6, '😟': 4, '😄': 35, '😀': 61, '🎉': 75, '😃': 44, '😒': 15, '😡': 12, '😢': 9, '😤': 8, '😔': 11, '😞': 1})})\n"
     ]
    }
   ],
   "source": [
    "# Initialize dict to hold emoji counts (from our lexicon) for each artist\n",
    "emoji_counts = defaultdict(lambda: defaultdict(int))\n",
    "\n",
    "# Loop through the twitter_data df rows\n",
    "for _, row in twitter_data.iterrows():\n",
    "    artist = row['artist']\n",
    "    description = row['description']\n",
    "    # Count the presence of each emoji by looping through all characters in description \n",
    "    if type(description) == str:\n",
    "        for char in description: \n",
    "            if char in emoji_lexicon_unicode:\n",
    "                emoji_counts[artist][char] += 1\n",
    "\n",
    "print(emoji_counts)"
   ]
  },
  {
   "cell_type": "code",
   "execution_count": 68,
   "id": "2c610504",
   "metadata": {},
   "outputs": [
    {
     "data": {
      "text/plain": [
       "{'😍': 8189,\n",
       " '😎': 5529,\n",
       " '😊': 4821,\n",
       " '🥰': 4147,\n",
       " '😁': 2729,\n",
       " '🤗': 1851,\n",
       " '😀': 1800,\n",
       " '🎉': 1093,\n",
       " '😃': 1010,\n",
       " '😄': 809}"
      ]
     },
     "execution_count": 68,
     "metadata": {},
     "output_type": "execute_result"
    }
   ],
   "source": [
    "# Get sorted Cher positive emoji counts\n",
    "cher_positive = {emoji: count for emoji, count in emoji_counts['cher'].items() if emoji in positive_emojis_unicode}\n",
    "dict(sorted(cher_positive.items(), key=lambda item: item[1], reverse=True))"
   ]
  },
  {
   "cell_type": "code",
   "execution_count": 69,
   "id": "33449f8c",
   "metadata": {},
   "outputs": [
    {
     "data": {
      "text/plain": [
       "{'😭': 730,\n",
       " '😔': 387,\n",
       " '😢': 341,\n",
       " '😩': 335,\n",
       " '😡': 320,\n",
       " '😒': 288,\n",
       " '😤': 220,\n",
       " '😠': 115,\n",
       " '😞': 107,\n",
       " '😟': 45}"
      ]
     },
     "execution_count": 69,
     "metadata": {},
     "output_type": "execute_result"
    }
   ],
   "source": [
    "# Get sorted Cher negative emoji counts\n",
    "cher_negative = {emoji: count for emoji, count in emoji_counts['cher'].items() if emoji in negative_emojis_unicode}\n",
    "dict(sorted(cher_negative.items(), key=lambda item: item[1], reverse=True))"
   ]
  },
  {
   "cell_type": "code",
   "execution_count": 70,
   "id": "0dd26af7",
   "metadata": {},
   "outputs": [
    {
     "data": {
      "text/plain": [
       "{'😎': 279,\n",
       " '😍': 264,\n",
       " '😊': 189,\n",
       " '🥰': 132,\n",
       " '😁': 101,\n",
       " '🎉': 75,\n",
       " '🤗': 68,\n",
       " '😀': 61,\n",
       " '😃': 44,\n",
       " '😄': 35}"
      ]
     },
     "execution_count": 70,
     "metadata": {},
     "output_type": "execute_result"
    }
   ],
   "source": [
    "# Get sorted Robyn positive emoji counts\n",
    "robyn_positive = {emoji: count for emoji, count in emoji_counts['robyn'].items() if emoji in positive_emojis_unicode}\n",
    "dict(sorted(robyn_positive.items(), key=lambda item: item[1], reverse=True))"
   ]
  },
  {
   "cell_type": "code",
   "execution_count": 71,
   "id": "5156100e",
   "metadata": {},
   "outputs": [
    {
     "data": {
      "text/plain": [
       "{'😭': 41,\n",
       " '😒': 15,\n",
       " '😩': 13,\n",
       " '😡': 12,\n",
       " '😔': 11,\n",
       " '😢': 9,\n",
       " '😤': 8,\n",
       " '😠': 6,\n",
       " '😟': 4,\n",
       " '😞': 1}"
      ]
     },
     "execution_count": 71,
     "metadata": {},
     "output_type": "execute_result"
    }
   ],
   "source": [
    "# Get sorted Robyn negative emoji counts\n",
    "robyn_negative = {emoji: count for emoji, count in emoji_counts['robyn'].items() if emoji in negative_emojis_unicode}\n",
    "dict(sorted(robyn_negative.items(), key=lambda item: item[1], reverse=True))"
   ]
  },
  {
   "cell_type": "markdown",
   "id": "7f16d19a",
   "metadata": {},
   "source": [
    "Q: Which positive emoji is the most popular for each artist? Which negative emoji? \n",
    "\n",
    "A: <!-- Your answer here --> \n"
   ]
  }
 ],
 "metadata": {
  "kernelspec": {
   "display_name": "Python 3 (ipykernel)",
   "language": "python",
   "name": "python3"
  },
  "language_info": {
   "codemirror_mode": {
    "name": "ipython",
    "version": 3
   },
   "file_extension": ".py",
   "mimetype": "text/x-python",
   "name": "python",
   "nbconvert_exporter": "python",
   "pygments_lexer": "ipython3",
   "version": "3.9.13"
  }
 },
 "nbformat": 4,
 "nbformat_minor": 5
}
